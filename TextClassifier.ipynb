{
 "cells": [
  {
   "cell_type": "markdown",
   "metadata": {
    "id": "s8a_TDA0eOtn"
   },
   "source": [
    "# Intro to simple text classification in keras"
   ]
  },
  {
   "cell_type": "code",
   "execution_count": 1,
   "metadata": {
    "id": "iX-_2g9yeOtp"
   },
   "outputs": [],
   "source": [
    "# Do our imports\n",
    "import numpy as np\n",
    "import tensorflow as tf\n",
    "from keras.models import Sequential #base keras model\n",
    "from keras.layers import Dense, Activation #dense = fully connected layer\n",
    "from tensorflow.keras.optimizers.legacy import SGD #this is just tensorflow.keras.optimizers on earlier versions of tf"
   ]
  },
  {
   "cell_type": "markdown",
   "metadata": {},
   "source": [
    "Note: The following cell will give you an error like \"No module named 'matplotlib'\" if you have not yet installed matplotlib or sklearn. To install it, open up a terminal/command window, activate your environment (e.g., `conda activate coding3`), and then type `conda install matplotlib` and `conda install scikit-learn`\n",
    "\n",
    "You may have to restart the kernel if the cell does not complete running after you install.\n",
    "\n",
    "Note that you will only ever have to do this once per environment (e.g., from now on, when you run a new notebook that imports from matplotlib using this same environment, it will also be able to use that library; no need to install again)"
   ]
  },
  {
   "cell_type": "code",
   "execution_count": 2,
   "metadata": {
    "id": "zRW0av17eOtt"
   },
   "outputs": [],
   "source": [
    "#if any of these give you problems, make sure you've installed all libraries used (pandas, sklearn, and matplot lib)\n",
    "# using conda install or pip install\n",
    "# see the moodle page \"Instructions for setting up and using Python and Jupyter\" for more info on how to do this\n",
    "import pandas as pd\n",
    "import matplotlib\n",
    "from sklearn.feature_extraction import _stop_words\n",
    "from sklearn.metrics.pairwise import cosine_similarity as cosine\n",
    "from sklearn.feature_extraction.text import TfidfVectorizer\n",
    "from sklearn.feature_extraction.text import CountVectorizer\n",
    "from sklearn.feature_extraction.text import TfidfTransformer\n",
    "from sklearn.decomposition import TruncatedSVD\n",
    "from sklearn.model_selection import train_test_split\n",
    "import matplotlib.pyplot as plt"
   ]
  },
  {
   "cell_type": "code",
   "execution_count": 3,
   "metadata": {
    "scrolled": true
   },
   "outputs": [
    {
     "name": "stdout",
     "output_type": "stream",
     "text": [
      "Requirement already satisfied: scikit-learn in d:\\miniconda3\\lib\\site-packages (1.2.2)\n",
      "Requirement already satisfied: joblib>=1.1.1 in d:\\miniconda3\\lib\\site-packages (from scikit-learn) (1.2.0)\n",
      "Requirement already satisfied: threadpoolctl>=2.0.0 in d:\\miniconda3\\lib\\site-packages (from scikit-learn) (3.1.0)\n",
      "Requirement already satisfied: numpy>=1.17.3 in d:\\miniconda3\\lib\\site-packages (from scikit-learn) (1.22.3)\n",
      "Requirement already satisfied: scipy>=1.3.2 in d:\\miniconda3\\lib\\site-packages (from scikit-learn) (1.10.1)\n"
     ]
    }
   ],
   "source": [
    "!pip install -U scikit-learn"
   ]
  },
  {
   "cell_type": "markdown",
   "metadata": {
    "id": "hwhcWbk_eOtt"
   },
   "source": [
    "## Loading a dataset\n",
    "\n",
    "We're going to use a small set of 1000 movie reviews from IMDB. [The original dataset can be found here.](https://www.kaggle.com/datasets/lakshmi25npathi/imdb-dataset-of-50k-movie-reviews?resource=download) \n",
    "\n",
    "Here's how to load in the dataset into the notebook:"
   ]
  },
  {
   "cell_type": "code",
   "execution_count": 4,
   "metadata": {
    "id": "KM6fXWZafsod"
   },
   "outputs": [],
   "source": [
    "# This assumes the IMDBsubset.csv file lives in a directory called \"data\" which lives in the same directory as this notebook.\n",
    "# ***if you want to edit this notebook to use a different dataset, edit this to specify a different file:\n",
    "df = pd.read_csv(\"BTS.csv\")"
   ]
  },
  {
   "cell_type": "markdown",
   "metadata": {},
   "source": [
    "Now we've got the data read in! We've used a special data type called a \"data frame\", using the Pandas library, to store this data. Pandas makes working with data pretty convenient.\n",
    "\n",
    "Printing df will show you the data in a table-like format (specifically, it'll show you the first and last few rows of the table).\n",
    "\n",
    "**Note that a sentiment of \"1\" means \"positive\" and \"0\" means \"negative\"**"
   ]
  },
  {
   "cell_type": "code",
   "execution_count": 6,
   "metadata": {
    "scrolled": true
   },
   "outputs": [
    {
     "data": {
      "text/html": [
       "<div>\n",
       "<style scoped>\n",
       "    .dataframe tbody tr th:only-of-type {\n",
       "        vertical-align: middle;\n",
       "    }\n",
       "\n",
       "    .dataframe tbody tr th {\n",
       "        vertical-align: top;\n",
       "    }\n",
       "\n",
       "    .dataframe thead th {\n",
       "        text-align: right;\n",
       "    }\n",
       "</style>\n",
       "<table border=\"1\" class=\"dataframe\">\n",
       "  <thead>\n",
       "    <tr style=\"text-align: right;\">\n",
       "      <th></th>\n",
       "      <th>query</th>\n",
       "      <th>url</th>\n",
       "      <th>title</th>\n",
       "      <th>upload_date</th>\n",
       "      <th>channel</th>\n",
       "      <th>views</th>\n",
       "      <th>likes</th>\n",
       "      <th>dislikes</th>\n",
       "      <th>comment_count</th>\n",
       "      <th>comment_text</th>\n",
       "      <th>comment_author</th>\n",
       "      <th>comment_date</th>\n",
       "      <th>comment_likes</th>\n",
       "    </tr>\n",
       "  </thead>\n",
       "  <tbody>\n",
       "    <tr>\n",
       "      <th>0</th>\n",
       "      <td>bts</td>\n",
       "      <td>https://www.youtube.com/watch?v=S8GpX3SAeig</td>\n",
       "      <td>5 Hour BTS Piano Playlist | Study &amp; Relax with...</td>\n",
       "      <td>2021-01-01T10:58:00Z</td>\n",
       "      <td>DooPiano</td>\n",
       "      <td>2444982</td>\n",
       "      <td>119269</td>\n",
       "      <td>501</td>\n",
       "      <td>3224</td>\n",
       "      <td>♪ Listen on Spotify!: https://spoti.fi/3gC9GfA...</td>\n",
       "      <td>DooPiano</td>\n",
       "      <td>2021-01-01T10:58:20Z</td>\n",
       "      <td>3884</td>\n",
       "    </tr>\n",
       "    <tr>\n",
       "      <th>1</th>\n",
       "      <td>bts</td>\n",
       "      <td>https://www.youtube.com/watch?v=S8GpX3SAeig</td>\n",
       "      <td>5 Hour BTS Piano Playlist | Study &amp; Relax with...</td>\n",
       "      <td>2021-01-01T10:58:00Z</td>\n",
       "      <td>DooPiano</td>\n",
       "      <td>2444982</td>\n",
       "      <td>119269</td>\n",
       "      <td>501</td>\n",
       "      <td>3224</td>\n",
       "      <td>My ears: *relaxing* My hands: *writing*  My le...</td>\n",
       "      <td>•ɱĭss süğą•</td>\n",
       "      <td>2021-01-29T15:42:43Z</td>\n",
       "      <td>4077</td>\n",
       "    </tr>\n",
       "    <tr>\n",
       "      <th>2</th>\n",
       "      <td>bts</td>\n",
       "      <td>https://www.youtube.com/watch?v=S8GpX3SAeig</td>\n",
       "      <td>5 Hour BTS Piano Playlist | Study &amp; Relax with...</td>\n",
       "      <td>2021-01-01T10:58:00Z</td>\n",
       "      <td>DooPiano</td>\n",
       "      <td>2444982</td>\n",
       "      <td>119269</td>\n",
       "      <td>501</td>\n",
       "      <td>3224</td>\n",
       "      <td>Parents: You have to make us proud  Partner: Y...</td>\n",
       "      <td>Leian Xyrielle Dayahan</td>\n",
       "      <td>2021-03-09T00:52:35Z</td>\n",
       "      <td>827</td>\n",
       "    </tr>\n",
       "    <tr>\n",
       "      <th>3</th>\n",
       "      <td>bts</td>\n",
       "      <td>https://www.youtube.com/watch?v=S8GpX3SAeig</td>\n",
       "      <td>5 Hour BTS Piano Playlist | Study &amp; Relax with...</td>\n",
       "      <td>2021-01-01T10:58:00Z</td>\n",
       "      <td>DooPiano</td>\n",
       "      <td>2444982</td>\n",
       "      <td>119269</td>\n",
       "      <td>501</td>\n",
       "      <td>3224</td>\n",
       "      <td>Little boy: “Are you an angel?”  Girl: “What?”...</td>\n",
       "      <td>Lisha</td>\n",
       "      <td>2021-02-12T15:48:08Z</td>\n",
       "      <td>921</td>\n",
       "    </tr>\n",
       "    <tr>\n",
       "      <th>4</th>\n",
       "      <td>bts</td>\n",
       "      <td>https://www.youtube.com/watch?v=S8GpX3SAeig</td>\n",
       "      <td>5 Hour BTS Piano Playlist | Study &amp; Relax with...</td>\n",
       "      <td>2021-01-01T10:58:00Z</td>\n",
       "      <td>DooPiano</td>\n",
       "      <td>2444982</td>\n",
       "      <td>119269</td>\n",
       "      <td>501</td>\n",
       "      <td>3224</td>\n",
       "      <td>Reasons to live:    “Suicide doesn’t stop the ...</td>\n",
       "      <td>Grace Cho</td>\n",
       "      <td>2021-02-02T18:39:00Z</td>\n",
       "      <td>2248</td>\n",
       "    </tr>\n",
       "    <tr>\n",
       "      <th>...</th>\n",
       "      <td>...</td>\n",
       "      <td>...</td>\n",
       "      <td>...</td>\n",
       "      <td>...</td>\n",
       "      <td>...</td>\n",
       "      <td>...</td>\n",
       "      <td>...</td>\n",
       "      <td>...</td>\n",
       "      <td>...</td>\n",
       "      <td>...</td>\n",
       "      <td>...</td>\n",
       "      <td>...</td>\n",
       "      <td>...</td>\n",
       "    </tr>\n",
       "    <tr>\n",
       "      <th>28286</th>\n",
       "      <td>bts</td>\n",
       "      <td>https://www.youtube.com/watch?v=8Wq7Ip5s_Y8</td>\n",
       "      <td>BTS OF BHAI KI JOURNEY | INTRODUCTION (PART 1)...</td>\n",
       "      <td>2021-01-30T12:30:00Z</td>\n",
       "      <td>Rushi SS</td>\n",
       "      <td>62</td>\n",
       "      <td>17</td>\n",
       "      <td>0</td>\n",
       "      <td>0</td>\n",
       "      <td>Kdkk</td>\n",
       "      <td>Rahul Dongare</td>\n",
       "      <td>2021-01-31T18:48:01Z</td>\n",
       "      <td>0</td>\n",
       "    </tr>\n",
       "    <tr>\n",
       "      <th>28287</th>\n",
       "      <td>bts</td>\n",
       "      <td>https://www.youtube.com/watch?v=8Wq7Ip5s_Y8</td>\n",
       "      <td>BTS OF BHAI KI JOURNEY | INTRODUCTION (PART 1)...</td>\n",
       "      <td>2021-01-30T12:30:00Z</td>\n",
       "      <td>Rushi SS</td>\n",
       "      <td>62</td>\n",
       "      <td>17</td>\n",
       "      <td>0</td>\n",
       "      <td>0</td>\n",
       "      <td>Dusra part kadhi yetoy 🙄</td>\n",
       "      <td>gaurav chavan</td>\n",
       "      <td>2021-01-31T09:41:49Z</td>\n",
       "      <td>1</td>\n",
       "    </tr>\n",
       "    <tr>\n",
       "      <th>28288</th>\n",
       "      <td>bts</td>\n",
       "      <td>https://www.youtube.com/watch?v=8Wq7Ip5s_Y8</td>\n",
       "      <td>BTS OF BHAI KI JOURNEY | INTRODUCTION (PART 1)...</td>\n",
       "      <td>2021-01-30T12:30:00Z</td>\n",
       "      <td>Rushi SS</td>\n",
       "      <td>62</td>\n",
       "      <td>17</td>\n",
       "      <td>0</td>\n",
       "      <td>0</td>\n",
       "      <td>😁😁😂😂😂</td>\n",
       "      <td>Premkumar Ghodake</td>\n",
       "      <td>2021-01-30T12:38:34Z</td>\n",
       "      <td>1</td>\n",
       "    </tr>\n",
       "    <tr>\n",
       "      <th>28289</th>\n",
       "      <td>bts</td>\n",
       "      <td>https://www.youtube.com/watch?v=8Wq7Ip5s_Y8</td>\n",
       "      <td>BTS OF BHAI KI JOURNEY | INTRODUCTION (PART 1)...</td>\n",
       "      <td>2021-01-30T12:30:00Z</td>\n",
       "      <td>Rushi SS</td>\n",
       "      <td>62</td>\n",
       "      <td>17</td>\n",
       "      <td>0</td>\n",
       "      <td>0</td>\n",
       "      <td>Kay tha bhai ye 🤔🤔🤔 but achhha tha 👍🐱🐱🐱😁</td>\n",
       "      <td>Komal Jagtap</td>\n",
       "      <td>2021-01-30T15:20:56Z</td>\n",
       "      <td>2</td>\n",
       "    </tr>\n",
       "    <tr>\n",
       "      <th>28290</th>\n",
       "      <td>bts</td>\n",
       "      <td>https://www.youtube.com/watch?v=8Wq7Ip5s_Y8</td>\n",
       "      <td>BTS OF BHAI KI JOURNEY | INTRODUCTION (PART 1)...</td>\n",
       "      <td>2021-01-30T12:30:00Z</td>\n",
       "      <td>Rushi SS</td>\n",
       "      <td>62</td>\n",
       "      <td>17</td>\n",
       "      <td>0</td>\n",
       "      <td>0</td>\n",
       "      <td>Kadak ha😂❤️👍😘</td>\n",
       "      <td>Premkumar Ghodake</td>\n",
       "      <td>2021-01-30T12:38:47Z</td>\n",
       "      <td>1</td>\n",
       "    </tr>\n",
       "  </tbody>\n",
       "</table>\n",
       "<p>28291 rows × 13 columns</p>\n",
       "</div>"
      ],
      "text/plain": [
       "      query                                          url   \n",
       "0       bts  https://www.youtube.com/watch?v=S8GpX3SAeig  \\\n",
       "1       bts  https://www.youtube.com/watch?v=S8GpX3SAeig   \n",
       "2       bts  https://www.youtube.com/watch?v=S8GpX3SAeig   \n",
       "3       bts  https://www.youtube.com/watch?v=S8GpX3SAeig   \n",
       "4       bts  https://www.youtube.com/watch?v=S8GpX3SAeig   \n",
       "...     ...                                          ...   \n",
       "28286   bts  https://www.youtube.com/watch?v=8Wq7Ip5s_Y8   \n",
       "28287   bts  https://www.youtube.com/watch?v=8Wq7Ip5s_Y8   \n",
       "28288   bts  https://www.youtube.com/watch?v=8Wq7Ip5s_Y8   \n",
       "28289   bts  https://www.youtube.com/watch?v=8Wq7Ip5s_Y8   \n",
       "28290   bts  https://www.youtube.com/watch?v=8Wq7Ip5s_Y8   \n",
       "\n",
       "                                                   title   \n",
       "0      5 Hour BTS Piano Playlist | Study & Relax with...  \\\n",
       "1      5 Hour BTS Piano Playlist | Study & Relax with...   \n",
       "2      5 Hour BTS Piano Playlist | Study & Relax with...   \n",
       "3      5 Hour BTS Piano Playlist | Study & Relax with...   \n",
       "4      5 Hour BTS Piano Playlist | Study & Relax with...   \n",
       "...                                                  ...   \n",
       "28286  BTS OF BHAI KI JOURNEY | INTRODUCTION (PART 1)...   \n",
       "28287  BTS OF BHAI KI JOURNEY | INTRODUCTION (PART 1)...   \n",
       "28288  BTS OF BHAI KI JOURNEY | INTRODUCTION (PART 1)...   \n",
       "28289  BTS OF BHAI KI JOURNEY | INTRODUCTION (PART 1)...   \n",
       "28290  BTS OF BHAI KI JOURNEY | INTRODUCTION (PART 1)...   \n",
       "\n",
       "                upload_date   channel    views   likes  dislikes   \n",
       "0      2021-01-01T10:58:00Z  DooPiano  2444982  119269       501  \\\n",
       "1      2021-01-01T10:58:00Z  DooPiano  2444982  119269       501   \n",
       "2      2021-01-01T10:58:00Z  DooPiano  2444982  119269       501   \n",
       "3      2021-01-01T10:58:00Z  DooPiano  2444982  119269       501   \n",
       "4      2021-01-01T10:58:00Z  DooPiano  2444982  119269       501   \n",
       "...                     ...       ...      ...     ...       ...   \n",
       "28286  2021-01-30T12:30:00Z  Rushi SS       62      17         0   \n",
       "28287  2021-01-30T12:30:00Z  Rushi SS       62      17         0   \n",
       "28288  2021-01-30T12:30:00Z  Rushi SS       62      17         0   \n",
       "28289  2021-01-30T12:30:00Z  Rushi SS       62      17         0   \n",
       "28290  2021-01-30T12:30:00Z  Rushi SS       62      17         0   \n",
       "\n",
       "       comment_count                                       comment_text   \n",
       "0               3224  ♪ Listen on Spotify!: https://spoti.fi/3gC9GfA...  \\\n",
       "1               3224  My ears: *relaxing* My hands: *writing*  My le...   \n",
       "2               3224  Parents: You have to make us proud  Partner: Y...   \n",
       "3               3224  Little boy: “Are you an angel?”  Girl: “What?”...   \n",
       "4               3224  Reasons to live:    “Suicide doesn’t stop the ...   \n",
       "...              ...                                                ...   \n",
       "28286              0                                               Kdkk   \n",
       "28287              0                           Dusra part kadhi yetoy 🙄   \n",
       "28288              0                                              😁😁😂😂😂   \n",
       "28289              0           Kay tha bhai ye 🤔🤔🤔 but achhha tha 👍🐱🐱🐱😁   \n",
       "28290              0                                      Kadak ha😂❤️👍😘   \n",
       "\n",
       "               comment_author          comment_date  comment_likes  \n",
       "0                    DooPiano  2021-01-01T10:58:20Z           3884  \n",
       "1                 •ɱĭss süğą•  2021-01-29T15:42:43Z           4077  \n",
       "2      Leian Xyrielle Dayahan  2021-03-09T00:52:35Z            827  \n",
       "3                       Lisha  2021-02-12T15:48:08Z            921  \n",
       "4                   Grace Cho  2021-02-02T18:39:00Z           2248  \n",
       "...                       ...                   ...            ...  \n",
       "28286           Rahul Dongare  2021-01-31T18:48:01Z              0  \n",
       "28287           gaurav chavan  2021-01-31T09:41:49Z              1  \n",
       "28288       Premkumar Ghodake  2021-01-30T12:38:34Z              1  \n",
       "28289            Komal Jagtap  2021-01-30T15:20:56Z              2  \n",
       "28290       Premkumar Ghodake  2021-01-30T12:38:47Z              1  \n",
       "\n",
       "[28291 rows x 13 columns]"
      ]
     },
     "execution_count": 6,
     "metadata": {},
     "output_type": "execute_result"
    }
   ],
   "source": [
    "df"
   ]
  },
  {
   "cell_type": "markdown",
   "metadata": {},
   "source": [
    "This is great, but if we want to read the full reviews (handy for later) then we can change our display options:"
   ]
  },
  {
   "cell_type": "code",
   "execution_count": 7,
   "metadata": {},
   "outputs": [
    {
     "data": {
      "text/html": [
       "<div>\n",
       "<style scoped>\n",
       "    .dataframe tbody tr th:only-of-type {\n",
       "        vertical-align: middle;\n",
       "    }\n",
       "\n",
       "    .dataframe tbody tr th {\n",
       "        vertical-align: top;\n",
       "    }\n",
       "\n",
       "    .dataframe thead th {\n",
       "        text-align: right;\n",
       "    }\n",
       "</style>\n",
       "<table border=\"1\" class=\"dataframe\">\n",
       "  <thead>\n",
       "    <tr style=\"text-align: right;\">\n",
       "      <th></th>\n",
       "      <th>query</th>\n",
       "      <th>url</th>\n",
       "      <th>title</th>\n",
       "      <th>upload_date</th>\n",
       "      <th>channel</th>\n",
       "      <th>views</th>\n",
       "      <th>likes</th>\n",
       "      <th>dislikes</th>\n",
       "      <th>comment_count</th>\n",
       "      <th>comment_text</th>\n",
       "      <th>comment_author</th>\n",
       "      <th>comment_date</th>\n",
       "      <th>comment_likes</th>\n",
       "    </tr>\n",
       "  </thead>\n",
       "  <tbody>\n",
       "    <tr>\n",
       "      <th>0</th>\n",
       "      <td>bts</td>\n",
       "      <td>https://www.youtube.com/watch?v=S8GpX3SAeig</td>\n",
       "      <td>5 Hour BTS Piano Playlist | Study &amp; Relax with BTS</td>\n",
       "      <td>2021-01-01T10:58:00Z</td>\n",
       "      <td>DooPiano</td>\n",
       "      <td>2444982</td>\n",
       "      <td>119269</td>\n",
       "      <td>501</td>\n",
       "      <td>3224</td>\n",
       "      <td>♪ Listen on Spotify!: https://spoti.fi/3gC9GfA  ♪ Sheet Music/악보: https://doopiano.com/en/sheetmusic  00:01 봄날 (Spring Day) Orchestra Ver.  04:48 Euphoria  08:56 전하지 못한 진심 (The Truth Untold)  13:15 I Need U (Orchestra Ver.)  16:35 Blue &amp; Grey  21:09 Butterfly  26:27 Save ME  29:56 Crystal Snow  35:25 Dynamite  38:50 Fake Love  43:00 네시 (4 O'Clock)  47:14 Let Go  52:44 작은 것들을 위한 시 (Boy With Luv) Sad Ver.  57:11 Lost    1:01:47 Life Goes On  1:05:43 소우주 (Mikrokosmos)  1:09:43 We are Bulletproof: the Eternal  1:14:18 Serendipity  1:16:52 Black Swan  1:20:30 Stay Gold  1:24:56 ON  1:29:20 DNA  1:33:24 Promise  1:36:06 First Love  1:39:24 Still With You  1:43:52 친구 (Friends)  1:47:31 Best Of Me  1:51:27 Young Forever  1:54:32 Heartbeat  1:58:57 I Need U    2:02:41 00:00 (Zero O'Clock)  2:07:33 MIC Drop  2:11:42 I'm Fine  2:15:36 Awake  2:20:10 Magic Shop  2:24:59 Run  2:29:38 Don't Leave Me  2:33:19 Jamais Vu  2:37:18 Lights  2:42:30 Answer: Love Myself  2:46:56 IDOL  2:50:53 Epiphany  2:55:03 Moon  2:58:48 Abyss    3:01:40 이 밤 (Tonight)  3:04:50 풍경 (Scenery)  3:09:45 Winter Bear  3:12:05 Singularity  3:15:32 Filter  3:18:48 시차 (My Time)  3:22:40 Airplane, Pt. 2  3:26:00 Make It Right  3:29:55 보조개 (Dimple)  3:33:27 작은 것들을 위한 시 (Boy With Luv)  3:37:27 Love Maze  3:41:13 Trivia 轉: Seesaw  3:45:31 Anpanman  3:49:28 Fly To My Room  3:53:57 So What  3:58:03 Home    4:01:21 Waste It On Me  4:05:03 Inner Child  4:09:19 고민보다 Go (Go Go)  4:13:27 Love Yourself Highlight Reel #1: '起'  4:16:03 Stay  4:19:43 피 땀 눈물 (Blood Sweat &amp; Tears)  4:23:51 Outro: Ego  4:26:58 낙원 (Paradise)  4:30:47 Dream Glow  4:34:17 A Brand New Day  4:37:57 Lie  4:42:02 잠시 (Telepathy)  4:45:45 Trivia 承: Love  4:49:10 Dionysus  4:52:05 Not Today  4:56:03 Come Back Home</td>\n",
       "      <td>DooPiano</td>\n",
       "      <td>2021-01-01T10:58:20Z</td>\n",
       "      <td>3884</td>\n",
       "    </tr>\n",
       "    <tr>\n",
       "      <th>1</th>\n",
       "      <td>bts</td>\n",
       "      <td>https://www.youtube.com/watch?v=S8GpX3SAeig</td>\n",
       "      <td>5 Hour BTS Piano Playlist | Study &amp; Relax with BTS</td>\n",
       "      <td>2021-01-01T10:58:00Z</td>\n",
       "      <td>DooPiano</td>\n",
       "      <td>2444982</td>\n",
       "      <td>119269</td>\n",
       "      <td>501</td>\n",
       "      <td>3224</td>\n",
       "      <td>My ears: *relaxing* My hands: *writing*  My legs: *dancing* My mouth: *singin'*</td>\n",
       "      <td>•ɱĭss süğą•</td>\n",
       "      <td>2021-01-29T15:42:43Z</td>\n",
       "      <td>4077</td>\n",
       "    </tr>\n",
       "    <tr>\n",
       "      <th>2</th>\n",
       "      <td>bts</td>\n",
       "      <td>https://www.youtube.com/watch?v=S8GpX3SAeig</td>\n",
       "      <td>5 Hour BTS Piano Playlist | Study &amp; Relax with BTS</td>\n",
       "      <td>2021-01-01T10:58:00Z</td>\n",
       "      <td>DooPiano</td>\n",
       "      <td>2444982</td>\n",
       "      <td>119269</td>\n",
       "      <td>501</td>\n",
       "      <td>3224</td>\n",
       "      <td>Parents: You have to make us proud  Partner: You have to be pretty  Friends: You have to have fun  Society: You have to follow the norms  World: You have to be perfect  BTS: You have to be YOU 💜</td>\n",
       "      <td>Leian Xyrielle Dayahan</td>\n",
       "      <td>2021-03-09T00:52:35Z</td>\n",
       "      <td>827</td>\n",
       "    </tr>\n",
       "    <tr>\n",
       "      <th>3</th>\n",
       "      <td>bts</td>\n",
       "      <td>https://www.youtube.com/watch?v=S8GpX3SAeig</td>\n",
       "      <td>5 Hour BTS Piano Playlist | Study &amp; Relax with BTS</td>\n",
       "      <td>2021-01-01T10:58:00Z</td>\n",
       "      <td>DooPiano</td>\n",
       "      <td>2444982</td>\n",
       "      <td>119269</td>\n",
       "      <td>501</td>\n",
       "      <td>3224</td>\n",
       "      <td>Little boy: “Are you an angel?”  Girl: “What?”  Little boy: “My mom told me those who have marked wrists are angels.”  Girl: “I’m not an angel”  Little boy: “Of course you are! Mom said only angels hurt themselves because they don’t like the life on earth. The world is destroying them so they try to return to heaven again. They are too sensitive to pain of others and their own.”  Girl: “You know your mom is very wise.”  Little boy: “Thank you. She is also an angel, but she already returned home.”</td>\n",
       "      <td>Lisha</td>\n",
       "      <td>2021-02-12T15:48:08Z</td>\n",
       "      <td>921</td>\n",
       "    </tr>\n",
       "    <tr>\n",
       "      <th>4</th>\n",
       "      <td>bts</td>\n",
       "      <td>https://www.youtube.com/watch?v=S8GpX3SAeig</td>\n",
       "      <td>5 Hour BTS Piano Playlist | Study &amp; Relax with BTS</td>\n",
       "      <td>2021-01-01T10:58:00Z</td>\n",
       "      <td>DooPiano</td>\n",
       "      <td>2444982</td>\n",
       "      <td>119269</td>\n",
       "      <td>501</td>\n",
       "      <td>3224</td>\n",
       "      <td>Reasons to live:    “Suicide doesn’t stop the pain,” “It gives it to someone else.”  - [ ] 1: We would miss you   - [ ] 2: It’s worth it to be alive   - [ ] 3: It does get better, believe it or not, it will eventually get better.   - [ ] 4: There’s so much you would miss out on doing.   - [ ] 5: You are worth it don’t let anyone, even yourself tell you otherwise.   - [ ] 6: God made you for a reason, you have a reason.   - [ ] 7: There is always a reason to live!   - [ ] 8: So many people care about you   - [ ] 9: You are amazing   - [ ] 10: I don’t even know you and I love you   - [ ] 11: I care for you   - [ ] 12: There are plenty of people that love you   - [ ] 13: Youre literally perfect!! &lt;3   - [ ] 14: There are plenty of people that care for you   - [ ] 15: God loves you   - [ ] 16: God cares about you   - [ ] 17: Sometimes life is hard but it will make you a stronger person don’t worry!   - [ ] 18: What about all the things you’ve always wanted to do?What about all the things you’ve planned,but never got around doing? You can’t do them if your dead.   - [ ] 19: I want you to be alive   - [ ] 20: So many people want you alive!   - [ ] 21: You won’t be able to listen to Music if you die   - [ ] 22: You’ll never be able to listen to your favorite song if you die.   - [ ] 23: You’ll never be able to listen to your favorite singer if you’re gone   - [ ] 24: You’ll never be able to listen to your favorite rapper if you’re gone.   - [ ] 25: listening to really loud music   - [ ] 26: Killing yourself is never worth it,you’ll hit both yourself &amp; the people who care about you.   - [ ] 27: There are so many people that would miss you,including me   - [ ] 28: the clouds   - [ ] 29: You are gorgeous   - [ ] 30: Someone out there would die for you :’)   - [ ] 31: How do you think your family would feel?   - [ ] 32: Proving people wrong with your success.   - [ ] 33: Watching the jerks that doubted you fail at life.   - [ ] 34: You’ll never have the feeling of walking into a warm building on a cold day.  - [ ] 35: You’ll never have the feeling of walking into a cold building on a hot day.  - [ ] 36: Being stupid in public just because you can.   - [ ] 37: Helping other people.   - [ ] 38: You have a future to live for..   - [ ] 39: Being alive is good   - [ ] 40: thinking about happy memories   - [ ] 41: Finding your soulmate.   - [ ] 42: All nighters!!!   - [ ] 43: Sleeping in all day  - [ ] 44: You can look back at yourself later in your life and be glad you didn’t commit suicide.   - [ ] 45: Nobody could ever replace you   - [ ] 46: You’re unique   - [ ] 47: pets   - [ ] 48: petting pets   - [ ] 49: Netflix and movies   - [ ] 50: Decorating the Christmas tree   - [ ] 51: Dreams that make you smile   - [ ] 52: Breakfast in bed   - [ ] 53: New clothes   - [ ] 54: New shoes   - [ ] 55: New books   - [ ] 56: Sunrises and Sunsets   - [ ] 57: Friends   - [ ] 58: The ocean   - [ ] 59: Sunlight   - [ ] 60: Your family   - [ ] 61: Inside jokes   - [ ] 62: Birthdays   - [ ] 63: Christmas   - [ ] 64: Family traditions   - [ ] 65: The taste of your favorite food   - [ ] 66: Favorite tv show   - [ ] 67: Favorite movie   - [ ] 68: Going to new places   - [ ] 69: The ability to peruse whatever you choose (there are over 7 billion people on Earth, don’t be afraid to be you)   - [ ] 70: To earn money and rewards   - [ ] 71: You can always flip your life around.   - [ ] 72: To find the perfect job/career for you   - [ ] 73: Pizza   - [ ] 74: Kittens   - [ ] 75: New haircuts   - [ ] 76: Moments you can look back to and laugh at   - [ ] 77: The clouds   - [ ] 78: The world is better with you in it   - [ ] 79: Roller Coasters   - [ ] 80: Showers   - [ ] 81: Cake   - [ ] 82:Growing old   - [ ] 83: Growing old with the person you love   - [ ] 84: Singing   - [ ] 85: Sleeping   - [ ] 86: Icecream   - [ ] 87: Cookies   - [ ] 88: food in general   - [ ] 89: Movie nights   - [ ] 90: Candy   - [ ] 91: Popcorn   - [ ] 92: Daydreaming   - [ ] 93: Happy moments   - [ ] 94: Halloween   - [ ] 95: Sleepovers   - [ ] 96: Parties   - [ ] 97: Having a good personality   - [ ] 98: Making people happy   - [ ] 99: Bonfires   - [ ] 100: Sitting on rooftops   - [ ] 101: Vacations   - [ ] 102: Hearing crazy stories   - [ ] 103: Telling crazy stories   - [ ] 104: Treehouses   - [ ] 105: Starbucks   - [ ] 106: You’ve changed someone’s life   - [ ] 107: If you’re gone how will you achieve great things?   - [ ] 108: Everyone has talent including you   - [ ] 109: Eating crazy food   - [ ] 110: Hanging out with your friends   - [ ] 111: Nobody could ever replace you   - [ ] 112: You have so much to live for   - [ ] 113: Your dreams need some fulfilling to do   - [ ] 114: Living life to the fullest   - [ ] 115: Heck,I would miss you like crazy   - [ ] 116: Your family and friends would be devastated if you were gone   - [ ] 117: Someone out there is constantly praying to meet someone like you   - [ ] 118: Your future   - [ ] 119: You could save so many lives   - [ ] 120: You are too beautiful to disappear   - [ ] 121: You are bigger than any of your problems   - [ ] 122: You are never alone during this struggle   - [ ] 123: Tomorrow is a new day!   - [ ] 124: You are worth more than you think  - [ ] 125: BTS!!!  - [ ] 126: But, the final and most important one is, just being able to experience life, because even if your life doesn’t seem so great right now, anything could happen!    💗💗     All suicide hotline numbers if you need someone to talk to :   - [ ] Argentina: +5402234930430   - [ ] Australia: 131114   - [ ] Austria: 142; for children and young people, 147   - [ ] Belgium: 106   - [ ] Bosnia &amp; Herzegovina: 080 05 03 05   - [ ] Botswana: 3911270   - [ ] Brazil: 188 for the CVV National Association   - [ ] Canada: 1 .833 .456 .4566, 5147234000   - [ ] (Montreal); 18662773553 (outside Montreal)   - [ ] Croatia: 014833888   - [ ] Denmark: +4570201201   - [ ] Egypt: 7621602   - [ ] Estonia: 3726558088;   - [ ] Russian 3726555688   - [ ] Finland: 010 195 202   - [ ] France: 0145394000   - [ ] Germany: 08001810771   - [ ] Holland: 0900767   - [ ] Hong Kong: +852 2382 0000   - [ ] Hungary: 116123   - [ ] India: 8888817666   - [ ] Ireland: +44058457909090   - [ ] Italy: 800860022   - [ ] Japan: +810352869090   - [ ] Mexico: 5255102550   - [ ] New Zealand: 0800543354   - [ ] Norway: +4781533300   - [ ] Philippines: 028969191   - [ ] Poland: 5270000   - [ ] Portugal: 21 854 07 40/8 . 96 898 21 50   - [ ] Russia: 0078202577577   - [ ] Spain: 914590050   - [ ] South Africa: 0514445691   - [ ] Sweden: 46317112400   - [ ] Switzerland: 143   - [ ] United Kingdom: 08457909090   - [ ] USA: 18002738255   - [ ] Veterans’ Crisis Line: 1 800 273 8255/ text 383255     💗💗   songs that could make you happy 🥺   Personal by HRVY: @YJpE   I like me better by Lauv: @ozwA   Classic by MKTO: @A4Ds   Just friends by JORDY: @eINM   Eastside by Benny Blanco,Halsey,&amp; Khalid: @UvGY   What makes you beautiful by 1D: @-A4E   Cheerleader by OMI: @QfW8   Everybody talks by Neon Trees: @84lE   Dear future husband by Meghan Trainor: @D_40   Backyard Boy by Claire Rosinkranz: @shy8   Shut up and dance with me by WALK THE MOON: @lx6Q   iSpy by KYLE: @gMPU   Trap queen by Fetty Wap: @NKio   LMK by Lil XXEL: @IC24   Dynamite by BTS: @WNZg     - fun facts!     1.Otters hold hands when sleeping is they don’t drift away from each other   2.Penguins only have one mate their entire life, they also propose by giving them a pebble   3.Cows have best friends   4.you’re perfect &lt;3   - another message: -     💗💗     To all those people being bullied   - To all those people who have lost a loved one   - To all those people who have lost a pet   - To all those people being abused   - To all those people going through depression   - To all those people with anxiety   - To all those people in poverty   - To all those people going through a breakup   - To all those people having a bad day   - To all those people with insecurities   - To all those people just having a hard time     Don’t forget   - Your weakness today   - Is your strength tomorrow   - It always gets better   - Your loved ones will remain in your hearts   - You always have the memories   - Love yourself   - Stand up for yourself   - Money can’t buy happiness   - Those lovers   - Just weren’t right   - Don’t abuse yourself   - Don’t abuse others   - Kill them with kindness   - Treat people with kindness   - We’ve all had these times   - There will always be a hole in our chests     But   - Let’s all be each others’ strength   - whether you’re   - Black   - White   - LGBTQ+   - Christian   - Atheist   - Etc     - Love yourself   - Love others   - Don’t cut   - Don’t kill   - Don’t criticize   - Don’t beg   - Don’t do drugs   - Don’t starve yourself   - Don’t starve others     We aren’t supposed to do any of that   - Just keep your strength   - Keep your faith   - Don’t change because you were told to   - Be yourself   - Sometimes playing a character, isn’t the best thing to do. Have a great day, and don’t stop spreading awareness about things that are happening currently in the world.   ⚠️ this is not my text, that however doesn't mean that I don't agree with every single word said here. out of the experience, it destroys people. Please don't be afraid to ask for help.  Please, I beg you, please don't do it. You are worth it and there are people who love you.⚠️   I need everyone to pass this on.   💗 ✊🏻✊🏼✊🏽✊🏾✊🏿  Copy and paste to spread</td>\n",
       "      <td>Grace Cho</td>\n",
       "      <td>2021-02-02T18:39:00Z</td>\n",
       "      <td>2248</td>\n",
       "    </tr>\n",
       "    <tr>\n",
       "      <th>...</th>\n",
       "      <td>...</td>\n",
       "      <td>...</td>\n",
       "      <td>...</td>\n",
       "      <td>...</td>\n",
       "      <td>...</td>\n",
       "      <td>...</td>\n",
       "      <td>...</td>\n",
       "      <td>...</td>\n",
       "      <td>...</td>\n",
       "      <td>...</td>\n",
       "      <td>...</td>\n",
       "      <td>...</td>\n",
       "      <td>...</td>\n",
       "    </tr>\n",
       "    <tr>\n",
       "      <th>28286</th>\n",
       "      <td>bts</td>\n",
       "      <td>https://www.youtube.com/watch?v=8Wq7Ip5s_Y8</td>\n",
       "      <td>BTS OF BHAI KI JOURNEY | INTRODUCTION (PART 1) | Rushi SS</td>\n",
       "      <td>2021-01-30T12:30:00Z</td>\n",
       "      <td>Rushi SS</td>\n",
       "      <td>62</td>\n",
       "      <td>17</td>\n",
       "      <td>0</td>\n",
       "      <td>0</td>\n",
       "      <td>Kdkk</td>\n",
       "      <td>Rahul Dongare</td>\n",
       "      <td>2021-01-31T18:48:01Z</td>\n",
       "      <td>0</td>\n",
       "    </tr>\n",
       "    <tr>\n",
       "      <th>28287</th>\n",
       "      <td>bts</td>\n",
       "      <td>https://www.youtube.com/watch?v=8Wq7Ip5s_Y8</td>\n",
       "      <td>BTS OF BHAI KI JOURNEY | INTRODUCTION (PART 1) | Rushi SS</td>\n",
       "      <td>2021-01-30T12:30:00Z</td>\n",
       "      <td>Rushi SS</td>\n",
       "      <td>62</td>\n",
       "      <td>17</td>\n",
       "      <td>0</td>\n",
       "      <td>0</td>\n",
       "      <td>Dusra part kadhi yetoy 🙄</td>\n",
       "      <td>gaurav chavan</td>\n",
       "      <td>2021-01-31T09:41:49Z</td>\n",
       "      <td>1</td>\n",
       "    </tr>\n",
       "    <tr>\n",
       "      <th>28288</th>\n",
       "      <td>bts</td>\n",
       "      <td>https://www.youtube.com/watch?v=8Wq7Ip5s_Y8</td>\n",
       "      <td>BTS OF BHAI KI JOURNEY | INTRODUCTION (PART 1) | Rushi SS</td>\n",
       "      <td>2021-01-30T12:30:00Z</td>\n",
       "      <td>Rushi SS</td>\n",
       "      <td>62</td>\n",
       "      <td>17</td>\n",
       "      <td>0</td>\n",
       "      <td>0</td>\n",
       "      <td>😁😁😂😂😂</td>\n",
       "      <td>Premkumar Ghodake</td>\n",
       "      <td>2021-01-30T12:38:34Z</td>\n",
       "      <td>1</td>\n",
       "    </tr>\n",
       "    <tr>\n",
       "      <th>28289</th>\n",
       "      <td>bts</td>\n",
       "      <td>https://www.youtube.com/watch?v=8Wq7Ip5s_Y8</td>\n",
       "      <td>BTS OF BHAI KI JOURNEY | INTRODUCTION (PART 1) | Rushi SS</td>\n",
       "      <td>2021-01-30T12:30:00Z</td>\n",
       "      <td>Rushi SS</td>\n",
       "      <td>62</td>\n",
       "      <td>17</td>\n",
       "      <td>0</td>\n",
       "      <td>0</td>\n",
       "      <td>Kay tha bhai ye 🤔🤔🤔 but achhha tha 👍🐱🐱🐱😁</td>\n",
       "      <td>Komal Jagtap</td>\n",
       "      <td>2021-01-30T15:20:56Z</td>\n",
       "      <td>2</td>\n",
       "    </tr>\n",
       "    <tr>\n",
       "      <th>28290</th>\n",
       "      <td>bts</td>\n",
       "      <td>https://www.youtube.com/watch?v=8Wq7Ip5s_Y8</td>\n",
       "      <td>BTS OF BHAI KI JOURNEY | INTRODUCTION (PART 1) | Rushi SS</td>\n",
       "      <td>2021-01-30T12:30:00Z</td>\n",
       "      <td>Rushi SS</td>\n",
       "      <td>62</td>\n",
       "      <td>17</td>\n",
       "      <td>0</td>\n",
       "      <td>0</td>\n",
       "      <td>Kadak ha😂❤️👍😘</td>\n",
       "      <td>Premkumar Ghodake</td>\n",
       "      <td>2021-01-30T12:38:47Z</td>\n",
       "      <td>1</td>\n",
       "    </tr>\n",
       "  </tbody>\n",
       "</table>\n",
       "<p>28291 rows × 13 columns</p>\n",
       "</div>"
      ],
      "text/plain": [
       "      query                                          url   \n",
       "0       bts  https://www.youtube.com/watch?v=S8GpX3SAeig  \\\n",
       "1       bts  https://www.youtube.com/watch?v=S8GpX3SAeig   \n",
       "2       bts  https://www.youtube.com/watch?v=S8GpX3SAeig   \n",
       "3       bts  https://www.youtube.com/watch?v=S8GpX3SAeig   \n",
       "4       bts  https://www.youtube.com/watch?v=S8GpX3SAeig   \n",
       "...     ...                                          ...   \n",
       "28286   bts  https://www.youtube.com/watch?v=8Wq7Ip5s_Y8   \n",
       "28287   bts  https://www.youtube.com/watch?v=8Wq7Ip5s_Y8   \n",
       "28288   bts  https://www.youtube.com/watch?v=8Wq7Ip5s_Y8   \n",
       "28289   bts  https://www.youtube.com/watch?v=8Wq7Ip5s_Y8   \n",
       "28290   bts  https://www.youtube.com/watch?v=8Wq7Ip5s_Y8   \n",
       "\n",
       "                                                           title   \n",
       "0             5 Hour BTS Piano Playlist | Study & Relax with BTS  \\\n",
       "1             5 Hour BTS Piano Playlist | Study & Relax with BTS   \n",
       "2             5 Hour BTS Piano Playlist | Study & Relax with BTS   \n",
       "3             5 Hour BTS Piano Playlist | Study & Relax with BTS   \n",
       "4             5 Hour BTS Piano Playlist | Study & Relax with BTS   \n",
       "...                                                          ...   \n",
       "28286  BTS OF BHAI KI JOURNEY | INTRODUCTION (PART 1) | Rushi SS   \n",
       "28287  BTS OF BHAI KI JOURNEY | INTRODUCTION (PART 1) | Rushi SS   \n",
       "28288  BTS OF BHAI KI JOURNEY | INTRODUCTION (PART 1) | Rushi SS   \n",
       "28289  BTS OF BHAI KI JOURNEY | INTRODUCTION (PART 1) | Rushi SS   \n",
       "28290  BTS OF BHAI KI JOURNEY | INTRODUCTION (PART 1) | Rushi SS   \n",
       "\n",
       "                upload_date   channel    views   likes  dislikes   \n",
       "0      2021-01-01T10:58:00Z  DooPiano  2444982  119269       501  \\\n",
       "1      2021-01-01T10:58:00Z  DooPiano  2444982  119269       501   \n",
       "2      2021-01-01T10:58:00Z  DooPiano  2444982  119269       501   \n",
       "3      2021-01-01T10:58:00Z  DooPiano  2444982  119269       501   \n",
       "4      2021-01-01T10:58:00Z  DooPiano  2444982  119269       501   \n",
       "...                     ...       ...      ...     ...       ...   \n",
       "28286  2021-01-30T12:30:00Z  Rushi SS       62      17         0   \n",
       "28287  2021-01-30T12:30:00Z  Rushi SS       62      17         0   \n",
       "28288  2021-01-30T12:30:00Z  Rushi SS       62      17         0   \n",
       "28289  2021-01-30T12:30:00Z  Rushi SS       62      17         0   \n",
       "28290  2021-01-30T12:30:00Z  Rushi SS       62      17         0   \n",
       "\n",
       "       comment_count   \n",
       "0               3224  \\\n",
       "1               3224   \n",
       "2               3224   \n",
       "3               3224   \n",
       "4               3224   \n",
       "...              ...   \n",
       "28286              0   \n",
       "28287              0   \n",
       "28288              0   \n",
       "28289              0   \n",
       "28290              0   \n",
       "\n",
       "                                                                                                                                                                                                                                                                                                                                                                                                                                                                                                                                                                                                                                                                                                                                                                                                                                                                                                                                                                                                                                                                                                                                                                                                                                                                                                                                                                                                                                                                                                                                                                                                                                                                                                                                                                                                                                                                                                                                                                                                                                                                                                                                                                                                                                                                                                                                                                                                                                                                                                                                                                                                                                                                                                                                                                                                                                                                                                                                                                                                                                                                                                                                                                                                                                                                                                                                                                                                                                                                                                                                                                                                                                                                                                                                                                                                                                                                                                                                                                                                                                                                                                                                                                                                                                                                                                                                                                                                                                                                                                                                                                                                                                                                                                                                                                                                                                                                                                                                                                                                                                                                                                                                                                                                                                                                                                                                                                                                                                                                                                                                                                                                                                                                                                                                                                                                                                                                                                                                                                                                                                                                                                                                                                                                                                                                                                                                                                                                                                                                                                                                                                                                                                                                                                                                                                                                                                                                                                                                                                                                                                                                                                                                                                                                                                                                                                                                                                                                                                                                                                                                                                                                                                                                                                                                                                                                                                                                                                                                                                                                                                                                                                                                                                                                                                                                                                                                                                                                                                                                                                                                                                                                                                                                                                                                                                                                                                                                                                                                                                                                                                                                                                                                                                                                                                                                                                                                                                                                                                                                                                                                                                                                                                                                                                                                                                                                                                                            comment_text   \n",
       "0                                                                                                                                                                                                                                                                                                                                                                                                                                                                                                                                                                                                                                                                                                                                                                                                                                                                                                                                                                                                                                                                                                                                                                                                                                                                                                                                                                                                                                                                                                                                                                                                                                                                                                                                                                                                                                                                                                                                                                                                                                                                                                                                                                                                                                                                                                                                                                                                                                                                                                                                                                                                                                                                                                                                                                                                                                                                                                                                                                                                                                                                                                                                                                                                                                                                                                                                                                                                                                                                                                                                                                                                                                                                                                                                                                                                                                                                                                                                                                                                                                                                                                                                                                                                                                                                                                                                                                                                                                                                                                                                                                                                                                                                                                                                                                                                                                                                                                                                                                                                                                                                                                                                                                                                                                                                                                                                                                                                                                                                                                                                                                                                                                                                                                                                                                                                                                                                                                                                                                                                                                                                                                                                                                                                                                                                                                                                                                                                                                                                                                                                                                                                                                                                                                                                                                                                                                                                                                                                                                                                                                                                                                                                                                                                                                                                                                                                                                                                                                                                                                                                                                                                                                                                                                                                                                                                                                                                                                                                                                                                                                             ♪ Listen on Spotify!: https://spoti.fi/3gC9GfA  ♪ Sheet Music/악보: https://doopiano.com/en/sheetmusic  00:01 봄날 (Spring Day) Orchestra Ver.  04:48 Euphoria  08:56 전하지 못한 진심 (The Truth Untold)  13:15 I Need U (Orchestra Ver.)  16:35 Blue & Grey  21:09 Butterfly  26:27 Save ME  29:56 Crystal Snow  35:25 Dynamite  38:50 Fake Love  43:00 네시 (4 O'Clock)  47:14 Let Go  52:44 작은 것들을 위한 시 (Boy With Luv) Sad Ver.  57:11 Lost    1:01:47 Life Goes On  1:05:43 소우주 (Mikrokosmos)  1:09:43 We are Bulletproof: the Eternal  1:14:18 Serendipity  1:16:52 Black Swan  1:20:30 Stay Gold  1:24:56 ON  1:29:20 DNA  1:33:24 Promise  1:36:06 First Love  1:39:24 Still With You  1:43:52 친구 (Friends)  1:47:31 Best Of Me  1:51:27 Young Forever  1:54:32 Heartbeat  1:58:57 I Need U    2:02:41 00:00 (Zero O'Clock)  2:07:33 MIC Drop  2:11:42 I'm Fine  2:15:36 Awake  2:20:10 Magic Shop  2:24:59 Run  2:29:38 Don't Leave Me  2:33:19 Jamais Vu  2:37:18 Lights  2:42:30 Answer: Love Myself  2:46:56 IDOL  2:50:53 Epiphany  2:55:03 Moon  2:58:48 Abyss    3:01:40 이 밤 (Tonight)  3:04:50 풍경 (Scenery)  3:09:45 Winter Bear  3:12:05 Singularity  3:15:32 Filter  3:18:48 시차 (My Time)  3:22:40 Airplane, Pt. 2  3:26:00 Make It Right  3:29:55 보조개 (Dimple)  3:33:27 작은 것들을 위한 시 (Boy With Luv)  3:37:27 Love Maze  3:41:13 Trivia 轉: Seesaw  3:45:31 Anpanman  3:49:28 Fly To My Room  3:53:57 So What  3:58:03 Home    4:01:21 Waste It On Me  4:05:03 Inner Child  4:09:19 고민보다 Go (Go Go)  4:13:27 Love Yourself Highlight Reel #1: '起'  4:16:03 Stay  4:19:43 피 땀 눈물 (Blood Sweat & Tears)  4:23:51 Outro: Ego  4:26:58 낙원 (Paradise)  4:30:47 Dream Glow  4:34:17 A Brand New Day  4:37:57 Lie  4:42:02 잠시 (Telepathy)  4:45:45 Trivia 承: Love  4:49:10 Dionysus  4:52:05 Not Today  4:56:03 Come Back Home  \\\n",
       "1                                                                                                                                                                                                                                                                                                                                                                                                                                                                                                                                                                                                                                                                                                                                                                                                                                                                                                                                                                                                                                                                                                                                                                                                                                                                                                                                                                                                                                                                                                                                                                                                                                                                                                                                                                                                                                                                                                                                                                                                                                                                                                                                                                                                                                                                                                                                                                                                                                                                                                                                                                                                                                                                                                                                                                                                                                                                                                                                                                                                                                                                                                                                                                                                                                                                                                                                                                                                                                                                                                                                                                                                                                                                                                                                                                                                                                                                                                                                                                                                                                                                                                                                                                                                                                                                                                                                                                                                                                                                                                                                                                                                                                                                                                                                                                                                                                                                                                                                                                                                                                                                                                                                                                                                                                                                                                                                                                                                                                                                                                                                                                                                                                                                                                                                                                                                                                                                                                                                                                                                                                                                                                                                                                                                                                                                                                                                                                                                                                                                                                                                                                                                                                                                                                                                                                                                                                                                                                                                                                                                                                                                                                                                                                                                                                                                                                                                                                                                                                                                                                                                                                                                                                                                                                                                                                                                                                                                                                                                                                                                                                                                                                                                                                                                                                                                                                                                                                                                                                                                                                                                                                                                                                                                                                                                                                                                                                                                                                                                                                                                                                                                                                                                                                                                                                                                                                                                                                                                                                                                                                                                                                                                                                                                                                                                                                                        My ears: *relaxing* My hands: *writing*  My legs: *dancing* My mouth: *singin'*   \n",
       "2                                                                                                                                                                                                                                                                                                                                                                                                                                                                                                                                                                                                                                                                                                                                                                                                                                                                                                                                                                                                                                                                                                                                                                                                                                                                                                                                                                                                                                                                                                                                                                                                                                                                                                                                                                                                                                                                                                                                                                                                                                                                                                                                                                                                                                                                                                                                                                                                                                                                                                                                                                                                                                                                                                                                                                                                                                                                                                                                                                                                                                                                                                                                                                                                                                                                                                                                                                                                                                                                                                                                                                                                                                                                                                                                                                                                                                                                                                                                                                                                                                                                                                                                                                                                                                                                                                                                                                                                                                                                                                                                                                                                                                                                                                                                                                                                                                                                                                                                                                                                                                                                                                                                                                                                                                                                                                                                                                                                                                                                                                                                                                                                                                                                                                                                                                                                                                                                                                                                                                                                                                                                                                                                                                                                                                                                                                                                                                                                                                                                                                                                                                                                                                                                                                                                                                                                                                                                                                                                                                                                                                                                                                                                                                                                                                                                                                                                                                                                                                                                                                                                                                                                                                                                                                                                                                                                                                                                                                                                                                                                                                                                                                                                                                                                                                                                                                                                                                                                                                                                                                                                                                                                                                                                                                                                                                                                                                                                                                                                                                                                                                                                                                                                                                                                                                                                                                                                                                                                                                                                                                                                                                                                                                                                     Parents: You have to make us proud  Partner: You have to be pretty  Friends: You have to have fun  Society: You have to follow the norms  World: You have to be perfect  BTS: You have to be YOU 💜   \n",
       "3                                                                                                                                                                                                                                                                                                                                                                                                                                                                                                                                                                                                                                                                                                                                                                                                                                                                                                                                                                                                                                                                                                                                                                                                                                                                                                                                                                                                                                                                                                                                                                                                                                                                                                                                                                                                                                                                                                                                                                                                                                                                                                                                                                                                                                                                                                                                                                                                                                                                                                                                                                                                                                                                                                                                                                                                                                                                                                                                                                                                                                                                                                                                                                                                                                                                                                                                                                                                                                                                                                                                                                                                                                                                                                                                                                                                                                                                                                                                                                                                                                                                                                                                                                                                                                                                                                                                                                                                                                                                                                                                                                                                                                                                                                                                                                                                                                                                                                                                                                                                                                                                                                                                                                                                                                                                                                                                                                                                                                                                                                                                                                                                                                                                                                                                                                                                                                                                                                                                                                                                                                                                                                                                                                                                                                                                                                                                                                                                                                                                                                                                                                                                                                                                                                                                                                                                                                                                                                                                                                                                                                                                                                                                                                                                                                                                                                                                                                                                                                                                                                                                                                                                                                                                                                                                                                                                                                                                                                                                                                                                                                                                                                                                                                                                                                                                                                                                                                                                                                                                                                                                                                                                                                                                                                                                                                                                                                                                                                                                                                                                                                                                                                                                                                                                                                                                                                                                                  Little boy: “Are you an angel?”  Girl: “What?”  Little boy: “My mom told me those who have marked wrists are angels.”  Girl: “I’m not an angel”  Little boy: “Of course you are! Mom said only angels hurt themselves because they don’t like the life on earth. The world is destroying them so they try to return to heaven again. They are too sensitive to pain of others and their own.”  Girl: “You know your mom is very wise.”  Little boy: “Thank you. She is also an angel, but she already returned home.”   \n",
       "4      Reasons to live:    “Suicide doesn’t stop the pain,” “It gives it to someone else.”  - [ ] 1: We would miss you   - [ ] 2: It’s worth it to be alive   - [ ] 3: It does get better, believe it or not, it will eventually get better.   - [ ] 4: There’s so much you would miss out on doing.   - [ ] 5: You are worth it don’t let anyone, even yourself tell you otherwise.   - [ ] 6: God made you for a reason, you have a reason.   - [ ] 7: There is always a reason to live!   - [ ] 8: So many people care about you   - [ ] 9: You are amazing   - [ ] 10: I don’t even know you and I love you   - [ ] 11: I care for you   - [ ] 12: There are plenty of people that love you   - [ ] 13: Youre literally perfect!! <3   - [ ] 14: There are plenty of people that care for you   - [ ] 15: God loves you   - [ ] 16: God cares about you   - [ ] 17: Sometimes life is hard but it will make you a stronger person don’t worry!   - [ ] 18: What about all the things you’ve always wanted to do?What about all the things you’ve planned,but never got around doing? You can’t do them if your dead.   - [ ] 19: I want you to be alive   - [ ] 20: So many people want you alive!   - [ ] 21: You won’t be able to listen to Music if you die   - [ ] 22: You’ll never be able to listen to your favorite song if you die.   - [ ] 23: You’ll never be able to listen to your favorite singer if you’re gone   - [ ] 24: You’ll never be able to listen to your favorite rapper if you’re gone.   - [ ] 25: listening to really loud music   - [ ] 26: Killing yourself is never worth it,you’ll hit both yourself & the people who care about you.   - [ ] 27: There are so many people that would miss you,including me   - [ ] 28: the clouds   - [ ] 29: You are gorgeous   - [ ] 30: Someone out there would die for you :’)   - [ ] 31: How do you think your family would feel?   - [ ] 32: Proving people wrong with your success.   - [ ] 33: Watching the jerks that doubted you fail at life.   - [ ] 34: You’ll never have the feeling of walking into a warm building on a cold day.  - [ ] 35: You’ll never have the feeling of walking into a cold building on a hot day.  - [ ] 36: Being stupid in public just because you can.   - [ ] 37: Helping other people.   - [ ] 38: You have a future to live for..   - [ ] 39: Being alive is good   - [ ] 40: thinking about happy memories   - [ ] 41: Finding your soulmate.   - [ ] 42: All nighters!!!   - [ ] 43: Sleeping in all day  - [ ] 44: You can look back at yourself later in your life and be glad you didn’t commit suicide.   - [ ] 45: Nobody could ever replace you   - [ ] 46: You’re unique   - [ ] 47: pets   - [ ] 48: petting pets   - [ ] 49: Netflix and movies   - [ ] 50: Decorating the Christmas tree   - [ ] 51: Dreams that make you smile   - [ ] 52: Breakfast in bed   - [ ] 53: New clothes   - [ ] 54: New shoes   - [ ] 55: New books   - [ ] 56: Sunrises and Sunsets   - [ ] 57: Friends   - [ ] 58: The ocean   - [ ] 59: Sunlight   - [ ] 60: Your family   - [ ] 61: Inside jokes   - [ ] 62: Birthdays   - [ ] 63: Christmas   - [ ] 64: Family traditions   - [ ] 65: The taste of your favorite food   - [ ] 66: Favorite tv show   - [ ] 67: Favorite movie   - [ ] 68: Going to new places   - [ ] 69: The ability to peruse whatever you choose (there are over 7 billion people on Earth, don’t be afraid to be you)   - [ ] 70: To earn money and rewards   - [ ] 71: You can always flip your life around.   - [ ] 72: To find the perfect job/career for you   - [ ] 73: Pizza   - [ ] 74: Kittens   - [ ] 75: New haircuts   - [ ] 76: Moments you can look back to and laugh at   - [ ] 77: The clouds   - [ ] 78: The world is better with you in it   - [ ] 79: Roller Coasters   - [ ] 80: Showers   - [ ] 81: Cake   - [ ] 82:Growing old   - [ ] 83: Growing old with the person you love   - [ ] 84: Singing   - [ ] 85: Sleeping   - [ ] 86: Icecream   - [ ] 87: Cookies   - [ ] 88: food in general   - [ ] 89: Movie nights   - [ ] 90: Candy   - [ ] 91: Popcorn   - [ ] 92: Daydreaming   - [ ] 93: Happy moments   - [ ] 94: Halloween   - [ ] 95: Sleepovers   - [ ] 96: Parties   - [ ] 97: Having a good personality   - [ ] 98: Making people happy   - [ ] 99: Bonfires   - [ ] 100: Sitting on rooftops   - [ ] 101: Vacations   - [ ] 102: Hearing crazy stories   - [ ] 103: Telling crazy stories   - [ ] 104: Treehouses   - [ ] 105: Starbucks   - [ ] 106: You’ve changed someone’s life   - [ ] 107: If you’re gone how will you achieve great things?   - [ ] 108: Everyone has talent including you   - [ ] 109: Eating crazy food   - [ ] 110: Hanging out with your friends   - [ ] 111: Nobody could ever replace you   - [ ] 112: You have so much to live for   - [ ] 113: Your dreams need some fulfilling to do   - [ ] 114: Living life to the fullest   - [ ] 115: Heck,I would miss you like crazy   - [ ] 116: Your family and friends would be devastated if you were gone   - [ ] 117: Someone out there is constantly praying to meet someone like you   - [ ] 118: Your future   - [ ] 119: You could save so many lives   - [ ] 120: You are too beautiful to disappear   - [ ] 121: You are bigger than any of your problems   - [ ] 122: You are never alone during this struggle   - [ ] 123: Tomorrow is a new day!   - [ ] 124: You are worth more than you think  - [ ] 125: BTS!!!  - [ ] 126: But, the final and most important one is, just being able to experience life, because even if your life doesn’t seem so great right now, anything could happen!    💗💗     All suicide hotline numbers if you need someone to talk to :   - [ ] Argentina: +5402234930430   - [ ] Australia: 131114   - [ ] Austria: 142; for children and young people, 147   - [ ] Belgium: 106   - [ ] Bosnia & Herzegovina: 080 05 03 05   - [ ] Botswana: 3911270   - [ ] Brazil: 188 for the CVV National Association   - [ ] Canada: 1 .833 .456 .4566, 5147234000   - [ ] (Montreal); 18662773553 (outside Montreal)   - [ ] Croatia: 014833888   - [ ] Denmark: +4570201201   - [ ] Egypt: 7621602   - [ ] Estonia: 3726558088;   - [ ] Russian 3726555688   - [ ] Finland: 010 195 202   - [ ] France: 0145394000   - [ ] Germany: 08001810771   - [ ] Holland: 0900767   - [ ] Hong Kong: +852 2382 0000   - [ ] Hungary: 116123   - [ ] India: 8888817666   - [ ] Ireland: +44058457909090   - [ ] Italy: 800860022   - [ ] Japan: +810352869090   - [ ] Mexico: 5255102550   - [ ] New Zealand: 0800543354   - [ ] Norway: +4781533300   - [ ] Philippines: 028969191   - [ ] Poland: 5270000   - [ ] Portugal: 21 854 07 40/8 . 96 898 21 50   - [ ] Russia: 0078202577577   - [ ] Spain: 914590050   - [ ] South Africa: 0514445691   - [ ] Sweden: 46317112400   - [ ] Switzerland: 143   - [ ] United Kingdom: 08457909090   - [ ] USA: 18002738255   - [ ] Veterans’ Crisis Line: 1 800 273 8255/ text 383255     💗💗   songs that could make you happy 🥺   Personal by HRVY: @YJpE   I like me better by Lauv: @ozwA   Classic by MKTO: @A4Ds   Just friends by JORDY: @eINM   Eastside by Benny Blanco,Halsey,& Khalid: @UvGY   What makes you beautiful by 1D: @-A4E   Cheerleader by OMI: @QfW8   Everybody talks by Neon Trees: @84lE   Dear future husband by Meghan Trainor: @D_40   Backyard Boy by Claire Rosinkranz: @shy8   Shut up and dance with me by WALK THE MOON: @lx6Q   iSpy by KYLE: @gMPU   Trap queen by Fetty Wap: @NKio   LMK by Lil XXEL: @IC24   Dynamite by BTS: @WNZg     - fun facts!     1.Otters hold hands when sleeping is they don’t drift away from each other   2.Penguins only have one mate their entire life, they also propose by giving them a pebble   3.Cows have best friends   4.you’re perfect <3   - another message: -     💗💗     To all those people being bullied   - To all those people who have lost a loved one   - To all those people who have lost a pet   - To all those people being abused   - To all those people going through depression   - To all those people with anxiety   - To all those people in poverty   - To all those people going through a breakup   - To all those people having a bad day   - To all those people with insecurities   - To all those people just having a hard time     Don’t forget   - Your weakness today   - Is your strength tomorrow   - It always gets better   - Your loved ones will remain in your hearts   - You always have the memories   - Love yourself   - Stand up for yourself   - Money can’t buy happiness   - Those lovers   - Just weren’t right   - Don’t abuse yourself   - Don’t abuse others   - Kill them with kindness   - Treat people with kindness   - We’ve all had these times   - There will always be a hole in our chests     But   - Let’s all be each others’ strength   - whether you’re   - Black   - White   - LGBTQ+   - Christian   - Atheist   - Etc     - Love yourself   - Love others   - Don’t cut   - Don’t kill   - Don’t criticize   - Don’t beg   - Don’t do drugs   - Don’t starve yourself   - Don’t starve others     We aren’t supposed to do any of that   - Just keep your strength   - Keep your faith   - Don’t change because you were told to   - Be yourself   - Sometimes playing a character, isn’t the best thing to do. Have a great day, and don’t stop spreading awareness about things that are happening currently in the world.   ⚠️ this is not my text, that however doesn't mean that I don't agree with every single word said here. out of the experience, it destroys people. Please don't be afraid to ask for help.  Please, I beg you, please don't do it. You are worth it and there are people who love you.⚠️   I need everyone to pass this on.   💗 ✊🏻✊🏼✊🏽✊🏾✊🏿  Copy and paste to spread   \n",
       "...                                                                                                                                                                                                                                                                                                                                                                                                                                                                                                                                                                                                                                                                                                                                                                                                                                                                                                                                                                                                                                                                                                                                                                                                                                                                                                                                                                                                                                                                                                                                                                                                                                                                                                                                                                                                                                                                                                                                                                                                                                                                                                                                                                                                                                                                                                                                                                                                                                                                                                                                                                                                                                                                                                                                                                                                                                                                                                                                                                                                                                                                                                                                                                                                                                                                                                                                                                                                                                                                                                                                                                                                                                                                                                                                                                                                                                                                                                                                                                                                                                                                                                                                                                                                                                                                                                                                                                                                                                                                                                                                                                                                                                                                                                                                                                                                                                                                                                                                                                                                                                                                                                                                                                                                                                                                                                                                                                                                                                                                                                                                                                                                                                                                                                                                                                                                                                                                                                                                                                                                                                                                                                                                                                                                                                                                                                                                                                                                                                                                                                                                                                                                                                                                                                                                                                                                                                                                                                                                                                                                                                                                                                                                                                                                                                                                                                                                                                                                                                                                                                                                                                                                                                                                                                                                                                                                                                                                                                                                                                                                                                                                                                                                                                                                                                                                                                                                                                                                                                                                                                                                                                                                                                                                                                                                                                                                                                                                                                                                                                                                                                                                                                                                                                                                                                                                                                                                                                                                                                                                                                                                                                                                                                                                                                                                                                                                                                                                  ...   \n",
       "28286                                                                                                                                                                                                                                                                                                                                                                                                                                                                                                                                                                                                                                                                                                                                                                                                                                                                                                                                                                                                                                                                                                                                                                                                                                                                                                                                                                                                                                                                                                                                                                                                                                                                                                                                                                                                                                                                                                                                                                                                                                                                                                                                                                                                                                                                                                                                                                                                                                                                                                                                                                                                                                                                                                                                                                                                                                                                                                                                                                                                                                                                                                                                                                                                                                                                                                                                                                                                                                                                                                                                                                                                                                                                                                                                                                                                                                                                                                                                                                                                                                                                                                                                                                                                                                                                                                                                                                                                                                                                                                                                                                                                                                                                                                                                                                                                                                                                                                                                                                                                                                                                                                                                                                                                                                                                                                                                                                                                                                                                                                                                                                                                                                                                                                                                                                                                                                                                                                                                                                                                                                                                                                                                                                                                                                                                                                                                                                                                                                                                                                                                                                                                                                                                                                                                                                                                                                                                                                                                                                                                                                                                                                                                                                                                                                                                                                                                                                                                                                                                                                                                                                                                                                                                                                                                                                                                                                                                                                                                                                                                                                                                                                                                                                                                                                                                                                                                                                                                                                                                                                                                                                                                                                                                                                                                                                                                                                                                                                                                                                                                                                                                                                                                                                                                                                                                                                                                                                                                                                                                                                                                                                                                                                                                                                                                                                                                                                                               Kdkk   \n",
       "28287                                                                                                                                                                                                                                                                                                                                                                                                                                                                                                                                                                                                                                                                                                                                                                                                                                                                                                                                                                                                                                                                                                                                                                                                                                                                                                                                                                                                                                                                                                                                                                                                                                                                                                                                                                                                                                                                                                                                                                                                                                                                                                                                                                                                                                                                                                                                                                                                                                                                                                                                                                                                                                                                                                                                                                                                                                                                                                                                                                                                                                                                                                                                                                                                                                                                                                                                                                                                                                                                                                                                                                                                                                                                                                                                                                                                                                                                                                                                                                                                                                                                                                                                                                                                                                                                                                                                                                                                                                                                                                                                                                                                                                                                                                                                                                                                                                                                                                                                                                                                                                                                                                                                                                                                                                                                                                                                                                                                                                                                                                                                                                                                                                                                                                                                                                                                                                                                                                                                                                                                                                                                                                                                                                                                                                                                                                                                                                                                                                                                                                                                                                                                                                                                                                                                                                                                                                                                                                                                                                                                                                                                                                                                                                                                                                                                                                                                                                                                                                                                                                                                                                                                                                                                                                                                                                                                                                                                                                                                                                                                                                                                                                                                                                                                                                                                                                                                                                                                                                                                                                                                                                                                                                                                                                                                                                                                                                                                                                                                                                                                                                                                                                                                                                                                                                                                                                                                                                                                                                                                                                                                                                                                                                                                                                                                                                                                                                           Dusra part kadhi yetoy 🙄   \n",
       "28288                                                                                                                                                                                                                                                                                                                                                                                                                                                                                                                                                                                                                                                                                                                                                                                                                                                                                                                                                                                                                                                                                                                                                                                                                                                                                                                                                                                                                                                                                                                                                                                                                                                                                                                                                                                                                                                                                                                                                                                                                                                                                                                                                                                                                                                                                                                                                                                                                                                                                                                                                                                                                                                                                                                                                                                                                                                                                                                                                                                                                                                                                                                                                                                                                                                                                                                                                                                                                                                                                                                                                                                                                                                                                                                                                                                                                                                                                                                                                                                                                                                                                                                                                                                                                                                                                                                                                                                                                                                                                                                                                                                                                                                                                                                                                                                                                                                                                                                                                                                                                                                                                                                                                                                                                                                                                                                                                                                                                                                                                                                                                                                                                                                                                                                                                                                                                                                                                                                                                                                                                                                                                                                                                                                                                                                                                                                                                                                                                                                                                                                                                                                                                                                                                                                                                                                                                                                                                                                                                                                                                                                                                                                                                                                                                                                                                                                                                                                                                                                                                                                                                                                                                                                                                                                                                                                                                                                                                                                                                                                                                                                                                                                                                                                                                                                                                                                                                                                                                                                                                                                                                                                                                                                                                                                                                                                                                                                                                                                                                                                                                                                                                                                                                                                                                                                                                                                                                                                                                                                                                                                                                                                                                                                                                                                                                                                                                                                              😁😁😂😂😂   \n",
       "28289                                                                                                                                                                                                                                                                                                                                                                                                                                                                                                                                                                                                                                                                                                                                                                                                                                                                                                                                                                                                                                                                                                                                                                                                                                                                                                                                                                                                                                                                                                                                                                                                                                                                                                                                                                                                                                                                                                                                                                                                                                                                                                                                                                                                                                                                                                                                                                                                                                                                                                                                                                                                                                                                                                                                                                                                                                                                                                                                                                                                                                                                                                                                                                                                                                                                                                                                                                                                                                                                                                                                                                                                                                                                                                                                                                                                                                                                                                                                                                                                                                                                                                                                                                                                                                                                                                                                                                                                                                                                                                                                                                                                                                                                                                                                                                                                                                                                                                                                                                                                                                                                                                                                                                                                                                                                                                                                                                                                                                                                                                                                                                                                                                                                                                                                                                                                                                                                                                                                                                                                                                                                                                                                                                                                                                                                                                                                                                                                                                                                                                                                                                                                                                                                                                                                                                                                                                                                                                                                                                                                                                                                                                                                                                                                                                                                                                                                                                                                                                                                                                                                                                                                                                                                                                                                                                                                                                                                                                                                                                                                                                                                                                                                                                                                                                                                                                                                                                                                                                                                                                                                                                                                                                                                                                                                                                                                                                                                                                                                                                                                                                                                                                                                                                                                                                                                                                                                                                                                                                                                                                                                                                                                                                                                                                                                                                                                                           Kay tha bhai ye 🤔🤔🤔 but achhha tha 👍🐱🐱🐱😁   \n",
       "28290                                                                                                                                                                                                                                                                                                                                                                                                                                                                                                                                                                                                                                                                                                                                                                                                                                                                                                                                                                                                                                                                                                                                                                                                                                                                                                                                                                                                                                                                                                                                                                                                                                                                                                                                                                                                                                                                                                                                                                                                                                                                                                                                                                                                                                                                                                                                                                                                                                                                                                                                                                                                                                                                                                                                                                                                                                                                                                                                                                                                                                                                                                                                                                                                                                                                                                                                                                                                                                                                                                                                                                                                                                                                                                                                                                                                                                                                                                                                                                                                                                                                                                                                                                                                                                                                                                                                                                                                                                                                                                                                                                                                                                                                                                                                                                                                                                                                                                                                                                                                                                                                                                                                                                                                                                                                                                                                                                                                                                                                                                                                                                                                                                                                                                                                                                                                                                                                                                                                                                                                                                                                                                                                                                                                                                                                                                                                                                                                                                                                                                                                                                                                                                                                                                                                                                                                                                                                                                                                                                                                                                                                                                                                                                                                                                                                                                                                                                                                                                                                                                                                                                                                                                                                                                                                                                                                                                                                                                                                                                                                                                                                                                                                                                                                                                                                                                                                                                                                                                                                                                                                                                                                                                                                                                                                                                                                                                                                                                                                                                                                                                                                                                                                                                                                                                                                                                                                                                                                                                                                                                                                                                                                                                                                                                                                                                                                                                                      Kadak ha😂❤️👍😘   \n",
       "\n",
       "               comment_author          comment_date  comment_likes  \n",
       "0                    DooPiano  2021-01-01T10:58:20Z           3884  \n",
       "1                 •ɱĭss süğą•  2021-01-29T15:42:43Z           4077  \n",
       "2      Leian Xyrielle Dayahan  2021-03-09T00:52:35Z            827  \n",
       "3                       Lisha  2021-02-12T15:48:08Z            921  \n",
       "4                   Grace Cho  2021-02-02T18:39:00Z           2248  \n",
       "...                       ...                   ...            ...  \n",
       "28286           Rahul Dongare  2021-01-31T18:48:01Z              0  \n",
       "28287           gaurav chavan  2021-01-31T09:41:49Z              1  \n",
       "28288       Premkumar Ghodake  2021-01-30T12:38:34Z              1  \n",
       "28289            Komal Jagtap  2021-01-30T15:20:56Z              2  \n",
       "28290       Premkumar Ghodake  2021-01-30T12:38:47Z              1  \n",
       "\n",
       "[28291 rows x 13 columns]"
      ]
     },
     "execution_count": 7,
     "metadata": {},
     "output_type": "execute_result"
    }
   ],
   "source": [
    "pd.set_option('display.max_colwidth', None) #show me everything in the column, even if it's long!\n",
    "df #Show me the first and last few examples"
   ]
  },
  {
   "cell_type": "markdown",
   "metadata": {},
   "source": [
    "Let's do something super simple to transform this into a dataset that we can send to a neural network. \n",
    "\n",
    "Similarly to the sentiment classification we discussed in lecture last week, we're going to represent each example (review) as a vector of word counts.\n",
    "\n",
    "The CountVectorizer object from sklearn allows us to make these word count vectors pretty easily. Once we do the counts, we'll store these in a new dataframe.\n",
    "\n",
    "\n",
    "The following code transforms a review dataframe to a word count dataframe called wordcounts."
   ]
  },
  {
   "cell_type": "code",
   "execution_count": 9,
   "metadata": {},
   "outputs": [],
   "source": [
    "# Transform a dataframe containing a column named \"review\" \n",
    "# such that each row becomes represented by a set of word counts, corresponding to the number of each term in the review\n",
    "\n",
    "#These next two lines perform word counting:\n",
    "vectorizer = CountVectorizer(stop_words='english', min_df=0.01)\n",
    "#stop_words='english' removes very common english words that are unlikely to be useful (e.g. \"and\", \"the\")\n",
    "#min_df=0.1 removes very rare words that are likely to be typos, uninformative, etc.\n",
    "# You can type ?CountVectorizer in its own cell to read its documentation\n",
    "#***Note that \"df['review']\" is used below because \"review\" is the name of the column containing our text in the dataframe\n",
    "#If you apply this to your own data, you may probably need to change this column name!\n",
    "matrix = vectorizer.fit_transform(df['comment_text'])\n",
    "    \n",
    "#This line converts matrix into another dataframe, with column names corresponding to the word being counted\n",
    "data = pd.DataFrame(matrix.toarray(), columns=vectorizer.get_feature_names_out())"
   ]
  },
  {
   "cell_type": "markdown",
   "metadata": {},
   "source": [
    "Take a look at the data:"
   ]
  },
  {
   "cell_type": "code",
   "execution_count": 13,
   "metadata": {
    "scrolled": false
   },
   "outputs": [
    {
     "data": {
      "text/html": [
       "<div>\n",
       "<style scoped>\n",
       "    .dataframe tbody tr th:only-of-type {\n",
       "        vertical-align: middle;\n",
       "    }\n",
       "\n",
       "    .dataframe tbody tr th {\n",
       "        vertical-align: top;\n",
       "    }\n",
       "\n",
       "    .dataframe thead th {\n",
       "        text-align: right;\n",
       "    }\n",
       "</style>\n",
       "<table border=\"1\" class=\"dataframe\">\n",
       "  <thead>\n",
       "    <tr style=\"text-align: right;\">\n",
       "      <th></th>\n",
       "      <th>amazing</th>\n",
       "      <th>army</th>\n",
       "      <th>armys</th>\n",
       "      <th>baby</th>\n",
       "      <th>beautiful</th>\n",
       "      <th>best</th>\n",
       "      <th>bts</th>\n",
       "      <th>cute</th>\n",
       "      <th>dance</th>\n",
       "      <th>day</th>\n",
       "      <th>...</th>\n",
       "      <th>video</th>\n",
       "      <th>voice</th>\n",
       "      <th>want</th>\n",
       "      <th>watch</th>\n",
       "      <th>watching</th>\n",
       "      <th>way</th>\n",
       "      <th>world</th>\n",
       "      <th>wow</th>\n",
       "      <th>yo</th>\n",
       "      <th>yoongi</th>\n",
       "    </tr>\n",
       "  </thead>\n",
       "  <tbody>\n",
       "    <tr>\n",
       "      <th>0</th>\n",
       "      <td>0</td>\n",
       "      <td>0</td>\n",
       "      <td>0</td>\n",
       "      <td>0</td>\n",
       "      <td>0</td>\n",
       "      <td>1</td>\n",
       "      <td>0</td>\n",
       "      <td>0</td>\n",
       "      <td>0</td>\n",
       "      <td>2</td>\n",
       "      <td>...</td>\n",
       "      <td>0</td>\n",
       "      <td>0</td>\n",
       "      <td>0</td>\n",
       "      <td>0</td>\n",
       "      <td>0</td>\n",
       "      <td>0</td>\n",
       "      <td>0</td>\n",
       "      <td>0</td>\n",
       "      <td>0</td>\n",
       "      <td>0</td>\n",
       "    </tr>\n",
       "    <tr>\n",
       "      <th>1</th>\n",
       "      <td>0</td>\n",
       "      <td>0</td>\n",
       "      <td>0</td>\n",
       "      <td>0</td>\n",
       "      <td>0</td>\n",
       "      <td>0</td>\n",
       "      <td>0</td>\n",
       "      <td>0</td>\n",
       "      <td>0</td>\n",
       "      <td>0</td>\n",
       "      <td>...</td>\n",
       "      <td>0</td>\n",
       "      <td>0</td>\n",
       "      <td>0</td>\n",
       "      <td>0</td>\n",
       "      <td>0</td>\n",
       "      <td>0</td>\n",
       "      <td>0</td>\n",
       "      <td>0</td>\n",
       "      <td>0</td>\n",
       "      <td>0</td>\n",
       "    </tr>\n",
       "    <tr>\n",
       "      <th>2</th>\n",
       "      <td>0</td>\n",
       "      <td>0</td>\n",
       "      <td>0</td>\n",
       "      <td>0</td>\n",
       "      <td>0</td>\n",
       "      <td>0</td>\n",
       "      <td>1</td>\n",
       "      <td>0</td>\n",
       "      <td>0</td>\n",
       "      <td>0</td>\n",
       "      <td>...</td>\n",
       "      <td>0</td>\n",
       "      <td>0</td>\n",
       "      <td>0</td>\n",
       "      <td>0</td>\n",
       "      <td>0</td>\n",
       "      <td>0</td>\n",
       "      <td>1</td>\n",
       "      <td>0</td>\n",
       "      <td>0</td>\n",
       "      <td>0</td>\n",
       "    </tr>\n",
       "    <tr>\n",
       "      <th>3</th>\n",
       "      <td>0</td>\n",
       "      <td>0</td>\n",
       "      <td>0</td>\n",
       "      <td>0</td>\n",
       "      <td>0</td>\n",
       "      <td>0</td>\n",
       "      <td>0</td>\n",
       "      <td>0</td>\n",
       "      <td>0</td>\n",
       "      <td>0</td>\n",
       "      <td>...</td>\n",
       "      <td>0</td>\n",
       "      <td>0</td>\n",
       "      <td>0</td>\n",
       "      <td>0</td>\n",
       "      <td>0</td>\n",
       "      <td>0</td>\n",
       "      <td>1</td>\n",
       "      <td>0</td>\n",
       "      <td>0</td>\n",
       "      <td>0</td>\n",
       "    </tr>\n",
       "    <tr>\n",
       "      <th>4</th>\n",
       "      <td>1</td>\n",
       "      <td>0</td>\n",
       "      <td>0</td>\n",
       "      <td>0</td>\n",
       "      <td>2</td>\n",
       "      <td>2</td>\n",
       "      <td>2</td>\n",
       "      <td>0</td>\n",
       "      <td>1</td>\n",
       "      <td>6</td>\n",
       "      <td>...</td>\n",
       "      <td>0</td>\n",
       "      <td>0</td>\n",
       "      <td>2</td>\n",
       "      <td>0</td>\n",
       "      <td>1</td>\n",
       "      <td>0</td>\n",
       "      <td>2</td>\n",
       "      <td>0</td>\n",
       "      <td>0</td>\n",
       "      <td>0</td>\n",
       "    </tr>\n",
       "    <tr>\n",
       "      <th>...</th>\n",
       "      <td>...</td>\n",
       "      <td>...</td>\n",
       "      <td>...</td>\n",
       "      <td>...</td>\n",
       "      <td>...</td>\n",
       "      <td>...</td>\n",
       "      <td>...</td>\n",
       "      <td>...</td>\n",
       "      <td>...</td>\n",
       "      <td>...</td>\n",
       "      <td>...</td>\n",
       "      <td>...</td>\n",
       "      <td>...</td>\n",
       "      <td>...</td>\n",
       "      <td>...</td>\n",
       "      <td>...</td>\n",
       "      <td>...</td>\n",
       "      <td>...</td>\n",
       "      <td>...</td>\n",
       "      <td>...</td>\n",
       "      <td>...</td>\n",
       "    </tr>\n",
       "    <tr>\n",
       "      <th>28286</th>\n",
       "      <td>0</td>\n",
       "      <td>0</td>\n",
       "      <td>0</td>\n",
       "      <td>0</td>\n",
       "      <td>0</td>\n",
       "      <td>0</td>\n",
       "      <td>0</td>\n",
       "      <td>0</td>\n",
       "      <td>0</td>\n",
       "      <td>0</td>\n",
       "      <td>...</td>\n",
       "      <td>0</td>\n",
       "      <td>0</td>\n",
       "      <td>0</td>\n",
       "      <td>0</td>\n",
       "      <td>0</td>\n",
       "      <td>0</td>\n",
       "      <td>0</td>\n",
       "      <td>0</td>\n",
       "      <td>0</td>\n",
       "      <td>0</td>\n",
       "    </tr>\n",
       "    <tr>\n",
       "      <th>28287</th>\n",
       "      <td>0</td>\n",
       "      <td>0</td>\n",
       "      <td>0</td>\n",
       "      <td>0</td>\n",
       "      <td>0</td>\n",
       "      <td>0</td>\n",
       "      <td>0</td>\n",
       "      <td>0</td>\n",
       "      <td>0</td>\n",
       "      <td>0</td>\n",
       "      <td>...</td>\n",
       "      <td>0</td>\n",
       "      <td>0</td>\n",
       "      <td>0</td>\n",
       "      <td>0</td>\n",
       "      <td>0</td>\n",
       "      <td>0</td>\n",
       "      <td>0</td>\n",
       "      <td>0</td>\n",
       "      <td>0</td>\n",
       "      <td>0</td>\n",
       "    </tr>\n",
       "    <tr>\n",
       "      <th>28288</th>\n",
       "      <td>0</td>\n",
       "      <td>0</td>\n",
       "      <td>0</td>\n",
       "      <td>0</td>\n",
       "      <td>0</td>\n",
       "      <td>0</td>\n",
       "      <td>0</td>\n",
       "      <td>0</td>\n",
       "      <td>0</td>\n",
       "      <td>0</td>\n",
       "      <td>...</td>\n",
       "      <td>0</td>\n",
       "      <td>0</td>\n",
       "      <td>0</td>\n",
       "      <td>0</td>\n",
       "      <td>0</td>\n",
       "      <td>0</td>\n",
       "      <td>0</td>\n",
       "      <td>0</td>\n",
       "      <td>0</td>\n",
       "      <td>0</td>\n",
       "    </tr>\n",
       "    <tr>\n",
       "      <th>28289</th>\n",
       "      <td>0</td>\n",
       "      <td>0</td>\n",
       "      <td>0</td>\n",
       "      <td>0</td>\n",
       "      <td>0</td>\n",
       "      <td>0</td>\n",
       "      <td>0</td>\n",
       "      <td>0</td>\n",
       "      <td>0</td>\n",
       "      <td>0</td>\n",
       "      <td>...</td>\n",
       "      <td>0</td>\n",
       "      <td>0</td>\n",
       "      <td>0</td>\n",
       "      <td>0</td>\n",
       "      <td>0</td>\n",
       "      <td>0</td>\n",
       "      <td>0</td>\n",
       "      <td>0</td>\n",
       "      <td>0</td>\n",
       "      <td>0</td>\n",
       "    </tr>\n",
       "    <tr>\n",
       "      <th>28290</th>\n",
       "      <td>0</td>\n",
       "      <td>0</td>\n",
       "      <td>0</td>\n",
       "      <td>0</td>\n",
       "      <td>0</td>\n",
       "      <td>0</td>\n",
       "      <td>0</td>\n",
       "      <td>0</td>\n",
       "      <td>0</td>\n",
       "      <td>0</td>\n",
       "      <td>...</td>\n",
       "      <td>0</td>\n",
       "      <td>0</td>\n",
       "      <td>0</td>\n",
       "      <td>0</td>\n",
       "      <td>0</td>\n",
       "      <td>0</td>\n",
       "      <td>0</td>\n",
       "      <td>0</td>\n",
       "      <td>0</td>\n",
       "      <td>0</td>\n",
       "    </tr>\n",
       "  </tbody>\n",
       "</table>\n",
       "<p>28291 rows × 84 columns</p>\n",
       "</div>"
      ],
      "text/plain": [
       "       amazing  army  armys  baby  beautiful  best  bts  cute  dance  day   \n",
       "0            0     0      0     0          0     1    0     0      0    2  \\\n",
       "1            0     0      0     0          0     0    0     0      0    0   \n",
       "2            0     0      0     0          0     0    1     0      0    0   \n",
       "3            0     0      0     0          0     0    0     0      0    0   \n",
       "4            1     0      0     0          2     2    2     0      1    6   \n",
       "...        ...   ...    ...   ...        ...   ...  ...   ...    ...  ...   \n",
       "28286        0     0      0     0          0     0    0     0      0    0   \n",
       "28287        0     0      0     0          0     0    0     0      0    0   \n",
       "28288        0     0      0     0          0     0    0     0      0    0   \n",
       "28289        0     0      0     0          0     0    0     0      0    0   \n",
       "28290        0     0      0     0          0     0    0     0      0    0   \n",
       "\n",
       "       ...  video  voice  want  watch  watching  way  world  wow  yo  yoongi  \n",
       "0      ...      0      0     0      0         0    0      0    0   0       0  \n",
       "1      ...      0      0     0      0         0    0      0    0   0       0  \n",
       "2      ...      0      0     0      0         0    0      1    0   0       0  \n",
       "3      ...      0      0     0      0         0    0      1    0   0       0  \n",
       "4      ...      0      0     2      0         1    0      2    0   0       0  \n",
       "...    ...    ...    ...   ...    ...       ...  ...    ...  ...  ..     ...  \n",
       "28286  ...      0      0     0      0         0    0      0    0   0       0  \n",
       "28287  ...      0      0     0      0         0    0      0    0   0       0  \n",
       "28288  ...      0      0     0      0         0    0      0    0   0       0  \n",
       "28289  ...      0      0     0      0         0    0      0    0   0       0  \n",
       "28290  ...      0      0     0      0         0    0      0    0   0       0  \n",
       "\n",
       "[28291 rows x 84 columns]"
      ]
     },
     "execution_count": 13,
     "metadata": {},
     "output_type": "execute_result"
    }
   ],
   "source": [
    "data #prints data to screen"
   ]
  },
  {
   "cell_type": "markdown",
   "metadata": {},
   "source": [
    "Note that you can examine this dataset, e.g. to look at the column of counts for the word \"wonderful\":"
   ]
  },
  {
   "cell_type": "code",
   "execution_count": 14,
   "metadata": {
    "scrolled": true
   },
   "outputs": [
    {
     "data": {
      "text/plain": [
       "0        0\n",
       "1        0\n",
       "2        0\n",
       "3        0\n",
       "4        1\n",
       "        ..\n",
       "28286    0\n",
       "28287    0\n",
       "28288    0\n",
       "28289    0\n",
       "28290    0\n",
       "Name: amazing, Length: 28291, dtype: int64"
      ]
     },
     "execution_count": 14,
     "metadata": {},
     "output_type": "execute_result"
    }
   ],
   "source": [
    "data[\"amazing\"]"
   ]
  },
  {
   "cell_type": "code",
   "execution_count": 15,
   "metadata": {},
   "outputs": [
    {
     "data": {
      "text/plain": [
       "0        1\n",
       "1        0\n",
       "2        0\n",
       "3        0\n",
       "4        2\n",
       "        ..\n",
       "28286    0\n",
       "28287    0\n",
       "28288    0\n",
       "28289    0\n",
       "28290    0\n",
       "Name: best, Length: 28291, dtype: int64"
      ]
     },
     "execution_count": 15,
     "metadata": {},
     "output_type": "execute_result"
    }
   ],
   "source": [
    "#or the word hate:\n",
    "data[\"best\"]"
   ]
  },
  {
   "cell_type": "markdown",
   "metadata": {},
   "source": [
    "## Let's do some machine learning!"
   ]
  },
  {
   "cell_type": "code",
   "execution_count": 39,
   "metadata": {},
   "outputs": [],
   "source": [
    "#First, let's split our dataset into training and test sets\n",
    "# Remember: X is for input, y is for output\n",
    "# The first argument of train_test_split is your training data (here, lives in \"data\" object you created using word counts)\n",
    "# The second argument of train_test_split is your labels/targets for the training data. This lives in the \"sentiment\" column of the original dataframe df we loaded from the file.\n",
    "# (***If you are using a different dataset, you'll need to change the name of this column to whatever it is in your dataset)\n",
    "# The test_size argument specifies % of data going into test set: here, 20% of the data goes into test set and 80% goes into training set\n",
    "X_train, X_test, y_train, y_test = train_test_split(data, df['comment_likes'], test_size=0.2, random_state=0)"
   ]
  },
  {
   "cell_type": "code",
   "execution_count": 40,
   "metadata": {},
   "outputs": [],
   "source": [
    "#If you ever want to learn more about a function, you can always use ? \n",
    "?train_test_split"
   ]
  },
  {
   "cell_type": "code",
   "execution_count": 41,
   "metadata": {
    "id": "ykvGqf40eOtu",
    "scrolled": true
   },
   "outputs": [
    {
     "data": {
      "text/plain": [
       "(22632, 84)"
      ]
     },
     "execution_count": 41,
     "metadata": {},
     "output_type": "execute_result"
    }
   ],
   "source": [
    "# We can examine it a bit using np.shape:\n",
    "np.shape(X_train) #What does our training data look like? It's 800 rows, with 1674 dimensions of input (features)"
   ]
  },
  {
   "cell_type": "code",
   "execution_count": 42,
   "metadata": {
    "id": "hiLtJgDYeOtu"
   },
   "outputs": [],
   "source": [
    "#Now let's make a simple neural network with 1 hidden layer containing 10 neurons\n",
    "num_neurons = 10 # neurons in each layer\n",
    "model = Sequential()\n",
    "\n",
    "#Make the first (hidden) layer, which will have num_neurons neurons. Each neuron will get inputs from all columns of the dataframe, except sentiment\n",
    "#model.add(Dense(num_neurons, input_dim=len(data.columns)-1))\n",
    "model.add(Dense(num_neurons, input_dim=np.shape(X_train)[1]))\n",
    "model.add(Activation('sigmoid')) #Now we'll use a sigmoid activation function\n",
    "\n",
    "#Now let's add another layer for the output: A single sigmoid neuron.\n",
    "model.add(Dense(1)) \n",
    "model.add(Activation('sigmoid'))"
   ]
  },
  {
   "cell_type": "code",
   "execution_count": 43,
   "metadata": {
    "id": "tcylQdKjeOtv"
   },
   "outputs": [],
   "source": [
    "#Use compile() to set up our training\n",
    "\n",
    "# For loss, we'll use binary cross-entropy loss, \n",
    "# which is appropriate for a binary classification problem (0/1 for negative/positive)\n",
    "# ***If you edit this notebook to apply it to a multi-class classification problem, you'll need \n",
    "#    to change the loss to something like categorical_crossentropy, and you'll also need to change the\n",
    "#    encoding of the class to a one hot representation (see https://machinelearningmastery.com/how-to-choose-loss-functions-when-training-deep-learning-neural-networks/)\n",
    "\n",
    "\n",
    "model.compile(optimizer='SGD',\n",
    "              loss='binary_crossentropy',\n",
    "              metrics=['accuracy'])"
   ]
  },
  {
   "cell_type": "code",
   "execution_count": 44,
   "metadata": {
    "id": "5O2u0WC2eOtv"
   },
   "outputs": [
    {
     "name": "stdout",
     "output_type": "stream",
     "text": [
      "Epoch 1/10\n",
      "708/708 [==============================] - 1s 2ms/step - loss: -693191.2500 - accuracy: 0.1563 - val_loss: -1104093.6250 - val_accuracy: 0.1488\n",
      "Epoch 2/10\n",
      "708/708 [==============================] - 1s 1ms/step - loss: -2099040.0000 - accuracy: 0.1561 - val_loss: -2211628.5000 - val_accuracy: 0.1488\n",
      "Epoch 3/10\n",
      "708/708 [==============================] - 1s 1ms/step - loss: -3503177.0000 - accuracy: 0.1561 - val_loss: -3320042.2500 - val_accuracy: 0.1488\n",
      "Epoch 4/10\n",
      "708/708 [==============================] - 1s 1ms/step - loss: -4909076.5000 - accuracy: 0.1561 - val_loss: -4428100.5000 - val_accuracy: 0.1488\n",
      "Epoch 5/10\n",
      "708/708 [==============================] - 1s 1ms/step - loss: -6314167.0000 - accuracy: 0.1561 - val_loss: -5536713.0000 - val_accuracy: 0.1488\n",
      "Epoch 6/10\n",
      "708/708 [==============================] - 1s 1ms/step - loss: -7719833.5000 - accuracy: 0.1561 - val_loss: -6644158.0000 - val_accuracy: 0.1488\n",
      "Epoch 7/10\n",
      "708/708 [==============================] - 1s 1ms/step - loss: -9124109.0000 - accuracy: 0.1561 - val_loss: -7752206.5000 - val_accuracy: 0.1488\n",
      "Epoch 8/10\n",
      "708/708 [==============================] - 1s 1ms/step - loss: -10529382.0000 - accuracy: 0.1561 - val_loss: -8860257.0000 - val_accuracy: 0.1488\n",
      "Epoch 9/10\n",
      "708/708 [==============================] - 1s 1ms/step - loss: -11934453.0000 - accuracy: 0.1561 - val_loss: -9967801.0000 - val_accuracy: 0.1488\n",
      "Epoch 10/10\n",
      "708/708 [==============================] - 1s 1ms/step - loss: -13338893.0000 - accuracy: 0.1561 - val_loss: -11075255.0000 - val_accuracy: 0.1488\n"
     ]
    }
   ],
   "source": [
    "#Train it!\n",
    "# Plus store history of training in a variable called \"history\"\n",
    "history = model.fit(X_train, y_train, epochs=10, validation_data=(X_test, y_test))"
   ]
  },
  {
   "cell_type": "markdown",
   "metadata": {},
   "source": [
    "Let's take a look at how training set and test set accuracy change with each epoch:"
   ]
  },
  {
   "cell_type": "code",
   "execution_count": 45,
   "metadata": {},
   "outputs": [
    {
     "data": {
      "text/plain": [
       "<matplotlib.legend.Legend at 0x13655587790>"
      ]
     },
     "execution_count": 45,
     "metadata": {},
     "output_type": "execute_result"
    },
    {
     "data": {
      "image/png": "[encoded data removed]",
      "text/plain": [
       "<Figure size 640x480 with 1 Axes>"
      ]
     },
     "metadata": {},
     "output_type": "display_data"
    }
   ],
   "source": [
    "plt.plot(history.history['accuracy'], label='training set accuracy')\n",
    "plt.plot(history.history['val_accuracy'], label = 'test set accuracy')\n",
    "plt.xlabel('Epoch')\n",
    "plt.ylabel('Accuracy')\n",
    "plt.ylim([0.5, 1])\n",
    "plt.legend(loc='lower right')"
   ]
  },
  {
   "cell_type": "markdown",
   "metadata": {},
   "source": [
    "## Examining model behaviour\n",
    "\n",
    "First, let's explore how we can apply the trained model to a specific example in our test data (or training data), to examine what it's done.\n",
    "\n",
    "We'll use the following code techniques:\n",
    "* We can apply the trained model to any example using the `.predict()` function\n",
    "* We can get the nth row from any dataframe using the `.iloc[[n]]` function"
   ]
  },
  {
   "cell_type": "code",
   "execution_count": 46,
   "metadata": {},
   "outputs": [
    {
     "name": "stdout",
     "output_type": "stream",
     "text": [
      "1/1 [==============================] - 0s 48ms/step\n"
     ]
    },
    {
     "data": {
      "text/plain": [
       "array([[1.]], dtype=float32)"
      ]
     },
     "execution_count": 46,
     "metadata": {},
     "output_type": "execute_result"
    }
   ],
   "source": [
    "#For instance, let's make z the first test example:\n",
    "z = X_test.iloc[[0]]\n",
    "\n",
    "#and let's output the prediction for this example:\n",
    "model.predict(z)"
   ]
  },
  {
   "cell_type": "markdown",
   "metadata": {},
   "source": [
    "Note that this prediction will be somewhere between 0 and 1. This can be interpreted loosely as confidence: closer to 1 is more confident it is positive sentiment, closer to 0 is more confident it is negative sentiment.\n",
    "\n",
    "Let's compare this to the actual sentiment of the review, as stored in y_test:"
   ]
  },
  {
   "cell_type": "code",
   "execution_count": 47,
   "metadata": {},
   "outputs": [
    {
     "data": {
      "text/plain": [
       "13606    18\n",
       "Name: comment_likes, dtype: int64"
      ]
     },
     "execution_count": 47,
     "metadata": {},
     "output_type": "execute_result"
    }
   ],
   "source": [
    "y_test.iloc[[0]]"
   ]
  },
  {
   "cell_type": "markdown",
   "metadata": {},
   "source": [
    "To make sense of this, we probably also want to look at the actual text review, which doesn't live in X_test but does live in the original dataframe we loaded from the CSV file, i.e. `df`. Since our `train_test_split` function has randomised the order of the data before splitting into training and testing sets, we need to get the id (row number) for `df` corresponding to this first test example."
   ]
  },
  {
   "cell_type": "code",
   "execution_count": 48,
   "metadata": {},
   "outputs": [
    {
     "data": {
      "text/plain": [
       "13606    307744\n",
       "Name: views, dtype: int64"
      ]
     },
     "execution_count": 48,
     "metadata": {},
     "output_type": "execute_result"
    }
   ],
   "source": [
    "test_ids = list(X_test.index) #gets the original indices in the df dataframe\n",
    "#test_ids[n] now refers to the id number of the nth test example\n",
    "originalReview = df.iloc[[test_ids[0]]].views\n",
    "originalReview"
   ]
  },
  {
   "cell_type": "markdown",
   "metadata": {},
   "source": [
    "Try this with a few more examples and see what you find. If you're comfortable with python, can you think of a way to identify misclassified test examples and just print out those? Or, even better, find test examples that are confidently classified correctly, or test examples that are \"confidently\" misclassified, and examine those?"
   ]
  },
  {
   "cell_type": "code",
   "execution_count": null,
   "metadata": {},
   "outputs": [],
   "source": []
  },
  {
   "cell_type": "markdown",
   "metadata": {},
   "source": [
    "For more fun, how about testing this classifier on our own new, fake \"reviews\"? Here's code to create an example of your own and apply the classifier to it. We'll have to first convert a string of text to a vector of word counts and put it in a dataframe, so here's a function for that:"
   ]
  },
  {
   "cell_type": "code",
   "execution_count": 49,
   "metadata": {},
   "outputs": [],
   "source": [
    "# Turns a text string into a dataframe example (***Note you'll need to change this from 'review' for your own dataset)\n",
    "def createExample(myText):\n",
    "\n",
    "    newExample = np.array([[myText]])\n",
    "    tdf = pd.DataFrame(newExample, columns=[\"views\"])\n",
    "    matrix = vectorizer.transform(tdf['views'])\n",
    "    newDf = pd.DataFrame(matrix.toarray(), columns=vectorizer.get_feature_names_out())\n",
    "    return newDf "
   ]
  },
  {
   "cell_type": "code",
   "execution_count": 50,
   "metadata": {},
   "outputs": [
    {
     "data": {
      "text/html": [
       "<div>\n",
       "<style scoped>\n",
       "    .dataframe tbody tr th:only-of-type {\n",
       "        vertical-align: middle;\n",
       "    }\n",
       "\n",
       "    .dataframe tbody tr th {\n",
       "        vertical-align: top;\n",
       "    }\n",
       "\n",
       "    .dataframe thead th {\n",
       "        text-align: right;\n",
       "    }\n",
       "</style>\n",
       "<table border=\"1\" class=\"dataframe\">\n",
       "  <thead>\n",
       "    <tr style=\"text-align: right;\">\n",
       "      <th></th>\n",
       "      <th>amazing</th>\n",
       "      <th>army</th>\n",
       "      <th>armys</th>\n",
       "      <th>baby</th>\n",
       "      <th>beautiful</th>\n",
       "      <th>best</th>\n",
       "      <th>bts</th>\n",
       "      <th>cute</th>\n",
       "      <th>dance</th>\n",
       "      <th>day</th>\n",
       "      <th>...</th>\n",
       "      <th>video</th>\n",
       "      <th>voice</th>\n",
       "      <th>want</th>\n",
       "      <th>watch</th>\n",
       "      <th>watching</th>\n",
       "      <th>way</th>\n",
       "      <th>world</th>\n",
       "      <th>wow</th>\n",
       "      <th>yo</th>\n",
       "      <th>yoongi</th>\n",
       "    </tr>\n",
       "  </thead>\n",
       "  <tbody>\n",
       "    <tr>\n",
       "      <th>0</th>\n",
       "      <td>0</td>\n",
       "      <td>0</td>\n",
       "      <td>0</td>\n",
       "      <td>0</td>\n",
       "      <td>0</td>\n",
       "      <td>0</td>\n",
       "      <td>0</td>\n",
       "      <td>0</td>\n",
       "      <td>0</td>\n",
       "      <td>0</td>\n",
       "      <td>...</td>\n",
       "      <td>0</td>\n",
       "      <td>0</td>\n",
       "      <td>0</td>\n",
       "      <td>0</td>\n",
       "      <td>0</td>\n",
       "      <td>0</td>\n",
       "      <td>0</td>\n",
       "      <td>0</td>\n",
       "      <td>0</td>\n",
       "      <td>0</td>\n",
       "    </tr>\n",
       "  </tbody>\n",
       "</table>\n",
       "<p>1 rows × 84 columns</p>\n",
       "</div>"
      ],
      "text/plain": [
       "   amazing  army  armys  baby  beautiful  best  bts  cute  dance  day  ...   \n",
       "0        0     0      0     0          0     0    0     0      0    0  ...  \\\n",
       "\n",
       "   video  voice  want  watch  watching  way  world  wow  yo  yoongi  \n",
       "0      0      0     0      0         0    0      0    0   0       0  \n",
       "\n",
       "[1 rows x 84 columns]"
      ]
     },
     "execution_count": 50,
     "metadata": {},
     "output_type": "execute_result"
    }
   ],
   "source": [
    "#Here's a text about zombies\n",
    "myText = \"This movie is about zombies zombies zombies\"\n",
    "t = createExample(myText) #When we print the dataframe, you see zombies' word count is 3:\n",
    "t"
   ]
  },
  {
   "cell_type": "code",
   "execution_count": 51,
   "metadata": {
    "scrolled": true
   },
   "outputs": [
    {
     "name": "stdout",
     "output_type": "stream",
     "text": [
      "1/1 [==============================] - 0s 30ms/step\n"
     ]
    },
    {
     "data": {
      "text/plain": [
       "array([[1.]], dtype=float32)"
      ]
     },
     "execution_count": 51,
     "metadata": {},
     "output_type": "execute_result"
    }
   ],
   "source": [
    "#apply the model to classify your new text:\n",
    "model.predict(t)"
   ]
  },
  {
   "cell_type": "markdown",
   "metadata": {},
   "source": [
    "Now try writing some \"great\" and \"terrible\" reviews and see what happens to the classification outputs:"
   ]
  },
  {
   "cell_type": "code",
   "execution_count": 52,
   "metadata": {},
   "outputs": [
    {
     "name": "stdout",
     "output_type": "stream",
     "text": [
      "1/1 [==============================] - 0s 23ms/step\n"
     ]
    },
    {
     "data": {
      "text/plain": [
       "array([[1.]], dtype=float32)"
      ]
     },
     "execution_count": 52,
     "metadata": {},
     "output_type": "execute_result"
    }
   ],
   "source": [
    "model.predict(createExample(\"This movie is the worst it's terrible horrible\"))"
   ]
  },
  {
   "cell_type": "markdown",
   "metadata": {},
   "source": [
    "## Explore on your own\n",
    "\n",
    "Change the code above to explore:\n",
    "* Does changing the number of neurons in the hidden layer change the results? What happens to accuracy when you use 1 neuron? 100 neurons? \n",
    "* Try editing the neural network so that you have 2 hidden layers of 10 neurons each. What happens to accuracy? \n",
    "\n",
    "Investigating the model\n",
    "* Can you examine the model's performance on the test data to discover anything about what mistakes this model makes? Or anything about what types of reviews are easy to classify accurately?\n",
    "* Can you come up with your own, new examples of positive or negative reviews that illustrate the mistakes the model makes?"
   ]
  },
  {
   "cell_type": "code",
   "execution_count": null,
   "metadata": {},
   "outputs": [],
   "source": []
  }
 ],
 "metadata": {
  "colab": {
   "collapsed_sections": [],
   "name": "NLP Week 4.2-Neural network intro.ipynb",
   "provenance": []
  },
  "kernelspec": {
   "display_name": "Python 3 (ipykernel)",
   "language": "python",
   "name": "python3"
  },
  "language_info": {
   "codemirror_mode": {
    "name": "ipython",
    "version": 3
   },
   "file_extension": ".py",
   "mimetype": "text/x-python",
   "name": "python",
   "nbconvert_exporter": "python",
   "pygments_lexer": "ipython3",
   "version": "3.10.9"
  }
 },
 "nbformat": 4,
 "nbformat_minor": 1
}
